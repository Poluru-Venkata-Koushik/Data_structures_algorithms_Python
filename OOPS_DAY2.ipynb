{
  "nbformat": 4,
  "nbformat_minor": 0,
  "metadata": {
    "colab": {
      "name": "OOPS_DAY2.ipynb",
      "provenance": [],
      "authorship_tag": "ABX9TyO8ZweQfBhzIppUkZC1R4XC",
      "include_colab_link": true
    },
    "kernelspec": {
      "name": "python3",
      "display_name": "Python 3"
    },
    "language_info": {
      "name": "python"
    }
  },
  "cells": [
    {
      "cell_type": "markdown",
      "metadata": {
        "id": "view-in-github",
        "colab_type": "text"
      },
      "source": [
        "<a href=\"https://colab.research.google.com/github/Poluru-Venkata-Koushik/Data_structures_algorithms_Python/blob/main/OOPS_DAY2.ipynb\" target=\"_parent\"><img src=\"https://colab.research.google.com/assets/colab-badge.svg\" alt=\"Open In Colab\"/></a>"
      ]
    },
    {
      "cell_type": "code",
      "execution_count": null,
      "metadata": {
        "id": "vueYHyS28zGr"
      },
      "outputs": [],
      "source": [
        "# TYPES OF INHERITANCE  "
      ]
    },
    {
      "cell_type": "markdown",
      "source": [
        "*****\n",
        "\n",
        "`Inheritance ` : Process of acquiring properties of one class to other\n",
        "** ** \n",
        "`Parent class / Base class / Super Class ` provides features to ` Child class/ Derived class / Subclass `\n",
        "\n",
        "\n",
        "\n",
        "****\n",
        "Types of Inheritance:\n",
        "\n",
        "\n",
        "1. Simple : Gets features from one class\n",
        "2. Multiple : Gets features from multiple classes\n",
        "3. Multi-level : Parent class 1 --> Child 1 --> Child class 2\n",
        "4. hierarchical: Two child aquire features from a parent\n",
        "5. Hybrid : PArent -> ( child 1, child 2 )--> CHild "
      ],
      "metadata": {
        "id": "vorYBCxU_xvl"
      }
    },
    {
      "cell_type": "code",
      "source": [
        "'''\n",
        "class ChildName(Parentclass):\n",
        "  implementation\n",
        "\n",
        "'''"
      ],
      "metadata": {
        "colab": {
          "base_uri": "https://localhost:8080/",
          "height": 35
        },
        "id": "dJD-tN5aBEtf",
        "outputId": "4804da63-787c-4366-b996-bf1f050a3964"
      },
      "execution_count": 4,
      "outputs": [
        {
          "output_type": "execute_result",
          "data": {
            "text/plain": [
              "'\\nclass ChildName(Parentclass):\\n  implementation\\n\\n'"
            ],
            "application/vnd.google.colaboratory.intrinsic+json": {
              "type": "string"
            }
          },
          "metadata": {},
          "execution_count": 4
        }
      ]
    },
    {
      "cell_type": "code",
      "source": [
        "class P_class:\n",
        "    def __init__(self):\n",
        "        self.name= \"Koushik\"\n",
        "    def f_1(self):\n",
        "        print(\"F_1 from P_Class !!\")\n",
        "    def f_2(self):\n",
        "        print(\"F_2 from P_class !!\")\n",
        "class c_class(P_class):\n",
        "    def f_3(self):\n",
        "        print(\"F_3 from C_CLASS\")"
      ],
      "metadata": {
        "id": "heEOuHDGJS79"
      },
      "execution_count": 5,
      "outputs": []
    },
    {
      "cell_type": "code",
      "source": [
        "obj=c_class()"
      ],
      "metadata": {
        "id": "kM3t5qppJVtz"
      },
      "execution_count": 6,
      "outputs": []
    },
    {
      "cell_type": "code",
      "source": [
        "obj.f_1()\n",
        "obj.f_2()\n",
        "obj.f_3()\n"
      ],
      "metadata": {
        "colab": {
          "base_uri": "https://localhost:8080/"
        },
        "id": "PgEUgO7gJW0B",
        "outputId": "321019d3-00d6-4829-9fcf-e455d3e08197"
      },
      "execution_count": 7,
      "outputs": [
        {
          "output_type": "stream",
          "name": "stdout",
          "text": [
            "F_1 from P_Class !!\n",
            "F_2 from P_class !!\n",
            "F_3 from C_CLASS\n"
          ]
        }
      ]
    },
    {
      "cell_type": "code",
      "source": [
        "# multiple inheritance"
      ],
      "metadata": {
        "id": "erx8yOJDJX2E"
      },
      "execution_count": 8,
      "outputs": []
    },
    {
      "cell_type": "code",
      "source": [
        "class P_class2:\n",
        "  def f_4(self):\n",
        "    print(\"F_4 from P_CLASS 2\")\n",
        "\n",
        "\n",
        "class c_class2(P_class,P_class2):\n",
        "  def f_5(self):\n",
        "    print(\"F5 from Child class 2\")\n"
      ],
      "metadata": {
        "id": "6Kl2vnktJemt"
      },
      "execution_count": 11,
      "outputs": []
    },
    {
      "cell_type": "code",
      "source": [
        "obj2 = c_class2()\n",
        "obj2.f_1()\n",
        "obj2.f_2()\n",
        "obj2.f_4()\n",
        "obj2.f_5()\n"
      ],
      "metadata": {
        "colab": {
          "base_uri": "https://localhost:8080/"
        },
        "id": "BOxSFQlyJo8u",
        "outputId": "c9f17e94-8732-4c3e-a305-b2dcf1b4b7fd"
      },
      "execution_count": 13,
      "outputs": [
        {
          "output_type": "stream",
          "name": "stdout",
          "text": [
            "F_1 from P_Class !!\n",
            "F_2 from P_class !!\n",
            "F_4 from P_CLASS 2\n",
            "F5 from Child class 2\n"
          ]
        }
      ]
    },
    {
      "cell_type": "code",
      "source": [
        "# and so on ....."
      ],
      "metadata": {
        "id": "FbhdspHhKNCv"
      },
      "execution_count": 14,
      "outputs": []
    },
    {
      "cell_type": "code",
      "source": [
        ""
      ],
      "metadata": {
        "id": "d94VCraBLhfO"
      },
      "execution_count": null,
      "outputs": []
    },
    {
      "cell_type": "markdown",
      "source": [
        "**Polymorphism**"
      ],
      "metadata": {
        "id": "362b81nOL05k"
      }
    },
    {
      "cell_type": "code",
      "source": [
        "# Multiple forms for more than one form"
      ],
      "metadata": {
        "id": "wOOZxx2aL2rA"
      },
      "execution_count": 15,
      "outputs": []
    },
    {
      "cell_type": "code",
      "source": [
        "# Method Overriding : Child class extending parent class can provide different def to any function in parent class as per its requirement "
      ],
      "metadata": {
        "id": "S6ncjKVeMJ9h"
      },
      "execution_count": 16,
      "outputs": []
    },
    {
      "cell_type": "code",
      "source": [
        "# Method Overloading : same name , but different functions with different number of parameters"
      ],
      "metadata": {
        "id": "uTqxwS8mMguw"
      },
      "execution_count": 17,
      "outputs": []
    },
    {
      "cell_type": "code",
      "source": [
        "class square :\n",
        "  side = 5\n",
        "  def calc_area(self):\n",
        "    return self.side*self.side"
      ],
      "metadata": {
        "id": "Is1fGHTVNKCE"
      },
      "execution_count": 26,
      "outputs": []
    },
    {
      "cell_type": "code",
      "source": [
        "class Triangle :\n",
        "  base =10\n",
        "  height = 4\n",
        "  def calc_area(self):\n",
        "   return 0.5*self.base*self.height"
      ],
      "metadata": {
        "id": "hT2xHhIANZkf"
      },
      "execution_count": 27,
      "outputs": []
    },
    {
      "cell_type": "code",
      "source": [
        "sq=square()\n",
        "tr=Triangle()"
      ],
      "metadata": {
        "id": "48kszrDZNk7S"
      },
      "execution_count": 30,
      "outputs": []
    },
    {
      "cell_type": "code",
      "source": [
        "sq.calc_area()"
      ],
      "metadata": {
        "colab": {
          "base_uri": "https://localhost:8080/"
        },
        "id": "hP0BbcNEN7c4",
        "outputId": "db677071-c2ac-4fea-9e0d-1fa5478adc61"
      },
      "execution_count": 29,
      "outputs": [
        {
          "output_type": "execute_result",
          "data": {
            "text/plain": [
              "25"
            ]
          },
          "metadata": {},
          "execution_count": 29
        }
      ]
    },
    {
      "cell_type": "code",
      "source": [
        "tr.calc_area()"
      ],
      "metadata": {
        "colab": {
          "base_uri": "https://localhost:8080/"
        },
        "id": "5kjXhEsjOJPJ",
        "outputId": "e7ca93ee-40e0-470e-8aa8-d7f4714c8ccc"
      },
      "execution_count": 31,
      "outputs": [
        {
          "output_type": "execute_result",
          "data": {
            "text/plain": [
              "20.0"
            ]
          },
          "metadata": {},
          "execution_count": 31
        }
      ]
    },
    {
      "cell_type": "code",
      "source": [
        "for i in (sq,tr):\n",
        "  print(i.calc_area())"
      ],
      "metadata": {
        "colab": {
          "base_uri": "https://localhost:8080/"
        },
        "id": "QMS4ozaGOXUX",
        "outputId": "67e9101b-6526-4dc4-db90-01eb9ef46002"
      },
      "execution_count": 35,
      "outputs": [
        {
          "output_type": "stream",
          "name": "stdout",
          "text": [
            "25\n",
            "20.0\n"
          ]
        }
      ]
    },
    {
      "cell_type": "code",
      "source": [
        "class Bird():\n",
        "  def intro(self):\n",
        "    print(\"HI! Imma bird\")\n",
        "  def flight(self):\n",
        "    print(\"Im flying\")\n",
        "\n",
        "class parrot(Bird):\n",
        "  def flight(self):\n",
        "    print(\"Im a flyin parrot\")\n",
        "class penguin(Bird):\n",
        "  def flight(self):\n",
        "    print(\"im a penguin. I cant flight LMAO \")"
      ],
      "metadata": {
        "id": "PFsRQBCROfqu"
      },
      "execution_count": 36,
      "outputs": []
    },
    {
      "cell_type": "code",
      "source": [
        "ob_bird=Bird()\n",
        "ob_prt=parrot()\n",
        "ob_png=penguin()\n",
        "\n"
      ],
      "metadata": {
        "id": "X7oxxdPdP4mm"
      },
      "execution_count": 37,
      "outputs": []
    },
    {
      "cell_type": "code",
      "source": [
        "ob_bird.intro()\n",
        "ob_prt.intro()\n",
        "ob_png.intro()"
      ],
      "metadata": {
        "colab": {
          "base_uri": "https://localhost:8080/"
        },
        "id": "wGUMAGS6QYa1",
        "outputId": "60437c34-954f-46a9-c4c4-d1ac6474972b"
      },
      "execution_count": 38,
      "outputs": [
        {
          "output_type": "stream",
          "name": "stdout",
          "text": [
            "HI! Imma bird\n",
            "HI! Imma bird\n",
            "HI! Imma bird\n"
          ]
        }
      ]
    },
    {
      "cell_type": "code",
      "source": [
        "ob_bird.flight()\n",
        "ob_prt.flight()\n",
        "ob_png.flight()"
      ],
      "metadata": {
        "colab": {
          "base_uri": "https://localhost:8080/"
        },
        "id": "3o-940CwRNIU",
        "outputId": "f760dd80-07df-4a31-cc95-e4f3f19015b5"
      },
      "execution_count": 39,
      "outputs": [
        {
          "output_type": "stream",
          "name": "stdout",
          "text": [
            "Im flying\n",
            "Im a flyin parrot\n",
            "im a penguin. I cant flight LMAO \n"
          ]
        }
      ]
    },
    {
      "cell_type": "code",
      "source": [
        ""
      ],
      "metadata": {
        "id": "xb3yzHMMRVuq"
      },
      "execution_count": null,
      "outputs": []
    }
  ]
}