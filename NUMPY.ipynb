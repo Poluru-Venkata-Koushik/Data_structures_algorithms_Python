{
  "nbformat": 4,
  "nbformat_minor": 0,
  "metadata": {
    "colab": {
      "name": "NUMPY.ipynb",
      "provenance": [],
      "authorship_tag": "ABX9TyOj/aGTVXQkpGt/JNpCY/eu",
      "include_colab_link": true
    },
    "kernelspec": {
      "name": "python3",
      "display_name": "Python 3"
    },
    "language_info": {
      "name": "python"
    }
  },
  "cells": [
    {
      "cell_type": "markdown",
      "metadata": {
        "id": "view-in-github",
        "colab_type": "text"
      },
      "source": [
        "<a href=\"https://colab.research.google.com/github/Poluru-Venkata-Koushik/Data_structures_algorithms_Python/blob/main/NUMPY.ipynb\" target=\"_parent\"><img src=\"https://colab.research.google.com/assets/colab-badge.svg\" alt=\"Open In Colab\"/></a>"
      ]
    },
    {
      "cell_type": "code",
      "metadata": {
        "id": "JWVSk2PqHzVh"
      },
      "source": [
        "import numpy as np\n"
      ],
      "execution_count": 1,
      "outputs": []
    },
    {
      "cell_type": "code",
      "metadata": {
        "id": "OrTuNR9BH5pv"
      },
      "source": [
        "a=np.array([1,2,3,4])\n",
        "b=np.array([2,2,2,2])\n"
      ],
      "execution_count": 9,
      "outputs": []
    },
    {
      "cell_type": "code",
      "metadata": {
        "colab": {
          "base_uri": "https://localhost:8080/"
        },
        "id": "PMU7FtUVJ20X",
        "outputId": "5fd98a6c-a980-4b04-c34b-2ebe6113059d"
      },
      "source": [
        "c=np.dot(a,b)\n",
        "c"
      ],
      "execution_count": 10,
      "outputs": [
        {
          "output_type": "execute_result",
          "data": {
            "text/plain": [
              "20"
            ]
          },
          "metadata": {
            "tags": []
          },
          "execution_count": 10
        }
      ]
    },
    {
      "cell_type": "code",
      "metadata": {
        "colab": {
          "base_uri": "https://localhost:8080/"
        },
        "id": "uRKUgerjKFXn",
        "outputId": "e0383ced-525f-4cbe-db6a-916ef34602c3"
      },
      "source": [
        "(a*b).sum() #does the same as np.dot()"
      ],
      "execution_count": 12,
      "outputs": [
        {
          "output_type": "execute_result",
          "data": {
            "text/plain": [
              "20"
            ]
          },
          "metadata": {
            "tags": []
          },
          "execution_count": 12
        }
      ]
    },
    {
      "cell_type": "code",
      "metadata": {
        "id": "SOcbrKpeKPpC"
      },
      "source": [
        "#numpy is 100 times faster than performing the same operation using loop\n"
      ],
      "execution_count": 16,
      "outputs": []
    },
    {
      "cell_type": "markdown",
      "metadata": {
        "id": "0uQjpTG2KzhP"
      },
      "source": [
        "`Multi-dimensional` arrays"
      ]
    },
    {
      "cell_type": "code",
      "metadata": {
        "colab": {
          "base_uri": "https://localhost:8080/"
        },
        "id": "1UyUbz5KKwTJ",
        "outputId": "66bcd886-1b07-48e6-f49b-a60b96639dd2"
      },
      "source": [
        "# a 3*3 matrix can be represented this way:\n",
        "\n",
        "np_3by3=np.array([[1,2,3],[4,5,6],[7,8,9]])\n",
        "np_3by3"
      ],
      "execution_count": 17,
      "outputs": [
        {
          "output_type": "execute_result",
          "data": {
            "text/plain": [
              "array([[1, 2, 3],\n",
              "       [4, 5, 6],\n",
              "       [7, 8, 9]])"
            ]
          },
          "metadata": {
            "tags": []
          },
          "execution_count": 17
        }
      ]
    },
    {
      "cell_type": "code",
      "metadata": {
        "colab": {
          "base_uri": "https://localhost:8080/"
        },
        "id": "pOlhhDrxLIYW",
        "outputId": "f4f6ebf8-dbf7-4cc1-d761-679a0bdb6d93"
      },
      "source": [
        "# You can also create n dimensional arrays using numpy\n",
        "\n",
        "np_3by3by2=np.array([[[1,2],[3,4]],[[5,6],[7,9]],[[10,11],[12,13]]])\n",
        "np_3by3by2"
      ],
      "execution_count": 18,
      "outputs": [
        {
          "output_type": "execute_result",
          "data": {
            "text/plain": [
              "array([[[ 1,  2],\n",
              "        [ 3,  4]],\n",
              "\n",
              "       [[ 5,  6],\n",
              "        [ 7,  9]],\n",
              "\n",
              "       [[10, 11],\n",
              "        [12, 13]]])"
            ]
          },
          "metadata": {
            "tags": []
          },
          "execution_count": 18
        }
      ]
    },
    {
      "cell_type": "code",
      "metadata": {
        "colab": {
          "base_uri": "https://localhost:8080/"
        },
        "id": "0euWl32FLuuM",
        "outputId": "d8c7c4e0-8806-457b-b52a-59a1585b6a27"
      },
      "source": [
        "np_3by3by2[1][1][1]"
      ],
      "execution_count": 20,
      "outputs": [
        {
          "output_type": "execute_result",
          "data": {
            "text/plain": [
              "9"
            ]
          },
          "metadata": {
            "tags": []
          },
          "execution_count": 20
        }
      ]
    },
    {
      "cell_type": "code",
      "metadata": {
        "id": "GAuupqTQMSSE"
      },
      "source": [
        "#.shape is used to find the shape of array\n"
      ],
      "execution_count": 21,
      "outputs": []
    },
    {
      "cell_type": "markdown",
      "metadata": {
        "id": "xyjNhuzQMnxH"
      },
      "source": [
        "To perform multiplication of two arrays(`Matrix multiplication`).\n",
        "we can either use `np.matmul()` or simply `@`"
      ]
    },
    {
      "cell_type": "code",
      "metadata": {
        "colab": {
          "base_uri": "https://localhost:8080/"
        },
        "id": "QgMkxJxFMYGN",
        "outputId": "42d87f77-9fe7-4ae5-bf98-a0b29d147a38"
      },
      "source": [
        "a_1=np.array([[1,2,3],[4,5,6],[7,8,9]])\n",
        "a_2=np.array([[1],[2],[3]])\n",
        "a12_matmul=np.matmul(a_1,a_2)\n",
        "a12_matmul"
      ],
      "execution_count": 23,
      "outputs": [
        {
          "output_type": "execute_result",
          "data": {
            "text/plain": [
              "array([[14],\n",
              "       [32],\n",
              "       [50]])"
            ]
          },
          "metadata": {
            "tags": []
          },
          "execution_count": 23
        }
      ]
    },
    {
      "cell_type": "code",
      "metadata": {
        "colab": {
          "base_uri": "https://localhost:8080/"
        },
        "id": "fb1LuJQSNUic",
        "outputId": "aed8ead7-ef65-4da1-e9ae-2ee8aab97045"
      },
      "source": [
        "a_1*a_2"
      ],
      "execution_count": 24,
      "outputs": [
        {
          "output_type": "execute_result",
          "data": {
            "text/plain": [
              "array([[ 1,  2,  3],\n",
              "       [ 8, 10, 12],\n",
              "       [21, 24, 27]])"
            ]
          },
          "metadata": {
            "tags": []
          },
          "execution_count": 24
        }
      ]
    },
    {
      "cell_type": "code",
      "metadata": {
        "colab": {
          "base_uri": "https://localhost:8080/"
        },
        "id": "da6ldw9ANX4l",
        "outputId": "ec52047c-9933-472e-b9f9-9519df4a2b67"
      },
      "source": [
        "a12_at= a_1 @ a_2\n",
        "a12_at"
      ],
      "execution_count": 25,
      "outputs": [
        {
          "output_type": "execute_result",
          "data": {
            "text/plain": [
              "array([[14],\n",
              "       [32],\n",
              "       [50]])"
            ]
          },
          "metadata": {
            "tags": []
          },
          "execution_count": 25
        }
      ]
    },
    {
      "cell_type": "markdown",
      "metadata": {
        "id": "LiKjh5QuNhxv"
      },
      "source": [
        "Working with `CSV(Comma Seperated Values) data files`"
      ]
    },
    {
      "cell_type": "code",
      "metadata": {
        "id": "MzwU1-N8NfQY"
      },
      "source": [
        "# a csv file with 10000 readings of (Temperature,rainfall,humidity) is downloaded  "
      ],
      "execution_count": null,
      "outputs": []
    },
    {
      "cell_type": "code",
      "metadata": {
        "colab": {
          "base_uri": "https://localhost:8080/"
        },
        "id": "9SVAbjpJN4ug",
        "outputId": "28b1005d-3462-47bc-d9d2-5684b6d82e6d"
      },
      "source": [
        "import urllib.request\n",
        "urllib.request.urlretrieve('https://hub.jovian.ml/wp-content/uploads/2020/08/climate.csv','climate.txt')"
      ],
      "execution_count": 27,
      "outputs": [
        {
          "output_type": "execute_result",
          "data": {
            "text/plain": [
              "('climate.txt', <http.client.HTTPMessage at 0x7fcf3b491f10>)"
            ]
          },
          "metadata": {
            "tags": []
          },
          "execution_count": 27
        }
      ]
    },
    {
      "cell_type": "code",
      "metadata": {
        "id": "lECS1asPO-MC"
      },
      "source": [
        "climate_data=np.genfromtxt('climate.txt',delimiter=',',skip_header=True)"
      ],
      "execution_count": 29,
      "outputs": []
    },
    {
      "cell_type": "code",
      "metadata": {
        "colab": {
          "base_uri": "https://localhost:8080/"
        },
        "id": "5ffbLtzsO3tF",
        "outputId": "a33bd143-b971-4943-821d-ed563f9c9bf1"
      },
      "source": [
        "climate_data.shape"
      ],
      "execution_count": 31,
      "outputs": [
        {
          "output_type": "execute_result",
          "data": {
            "text/plain": [
              "(10000, 3)"
            ]
          },
          "metadata": {
            "tags": []
          },
          "execution_count": 31
        }
      ]
    }
  ]
}