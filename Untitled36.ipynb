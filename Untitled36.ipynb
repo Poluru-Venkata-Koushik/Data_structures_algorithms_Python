{
  "nbformat": 4,
  "nbformat_minor": 0,
  "metadata": {
    "colab": {
      "name": "Untitled36.ipynb",
      "provenance": [],
      "collapsed_sections": [],
      "authorship_tag": "ABX9TyNEZQLRAhMANeyisjH9stQn",
      "include_colab_link": true
    },
    "kernelspec": {
      "name": "python3",
      "display_name": "Python 3"
    },
    "language_info": {
      "name": "python"
    }
  },
  "cells": [
    {
      "cell_type": "markdown",
      "metadata": {
        "id": "view-in-github",
        "colab_type": "text"
      },
      "source": [
        "<a href=\"https://colab.research.google.com/github/Poluru-Venkata-Koushik/Data_structures_algorithms_Python/blob/main/Untitled36.ipynb\" target=\"_parent\"><img src=\"https://colab.research.google.com/assets/colab-badge.svg\" alt=\"Open In Colab\"/></a>"
      ]
    },
    {
      "cell_type": "markdown",
      "source": [
        "# ***NLP Basic***\n"
      ],
      "metadata": {
        "id": "AkZ9QeZDRUle"
      }
    },
    {
      "cell_type": "code",
      "source": [
        ""
      ],
      "metadata": {
        "id": "t23mBZ4vRg_J"
      },
      "execution_count": null,
      "outputs": []
    },
    {
      "cell_type": "markdown",
      "source": [
        "`Intent` : Each task that we wish to perform \n",
        "\n",
        "`Entity` : Each intent has an important tag , thats an entity\n",
        "\n",
        "`Variance/utterance` : Each intent can be represented in multiple ways. bUt all the variances mean the same intent\n"
      ],
      "metadata": {
        "id": "r6FXGNZKRhv2"
      }
    },
    {
      "cell_type": "code",
      "source": [
        ""
      ],
      "metadata": {
        "id": "SShG5PQlR7Gl"
      },
      "execution_count": null,
      "outputs": []
    },
    {
      "cell_type": "markdown",
      "source": [
        "**`Module used : spaCy`**"
      ],
      "metadata": {
        "id": "cO-iZoGHTkzl"
      }
    },
    {
      "cell_type": "markdown",
      "source": [
        "`NLP` : Natural Language Processing, is the field of AI that enables computers/devices to analyze and understand human language\n",
        "\n",
        "`NLU` is Natural Language Understanding , is a subset of bigger picture of NLP.\n",
        "\n"
      ],
      "metadata": {
        "id": "lXRxFqmcUEdv"
      }
    },
    {
      "cell_type": "markdown",
      "source": [
        "`WHY spaCy?`:\n",
        "\n",
        "\n",
        "• Worlds fastest library \n",
        "• Helps in accomplishing real World NLP scenarios\n",
        "• Deep learning, Supports 28+ Languages, non destructive tokenization\n",
        "\n",
        "• 13 statistical models for 8 languages\n",
        "\n",
        "• Pre-trained word vectors\n",
        "\n",
        "• Easy deep-learning integration\n",
        "\n",
        "• Part-of-speech tagging\n",
        "\n",
        "• Labeled dependency parsing\n",
        "\n",
        "• Syntax-driven sentence segmentation\n",
        "\n",
        "• Built-in visualizers for syntax and NER\n",
        "\n",
        "• Convenient string-to-hash mapping\n",
        "\n",
        "• Export to numpy data arrays\n",
        "\n",
        "• Efficient binary serialization\n",
        "\n",
        "• Easy model packaging and deployment\n",
        "\n",
        "• State-of-the-art speed\n",
        "\n",
        "• Robust, rigorously evaluated accuracy\n",
        "\n",
        "\n"
      ],
      "metadata": {
        "id": "1b5W61bSUYMA"
      }
    },
    {
      "cell_type": "code",
      "source": [
        "# BASICS OF NLP"
      ],
      "metadata": {
        "id": "ErZfBhIyYX2V"
      },
      "execution_count": 1,
      "outputs": []
    },
    {
      "cell_type": "markdown",
      "source": [
        "# POS"
      ],
      "metadata": {
        "id": "gYW14LAuYvnz"
      }
    },
    {
      "cell_type": "code",
      "source": [
        "# POS : PARTS OF SPEECH"
      ],
      "metadata": {
        "id": "VU_LqL4NYxPF"
      },
      "execution_count": 2,
      "outputs": []
    },
    {
      "cell_type": "markdown",
      "source": [
        "`POS` tagging is a process where you read some text and assign POS to each of the word "
      ],
      "metadata": {
        "id": "0rDxhfI8Y7ke"
      }
    },
    {
      "cell_type": "code",
      "source": [
        "pip install spacy"
      ],
      "metadata": {
        "colab": {
          "base_uri": "https://localhost:8080/"
        },
        "id": "sZP8LhPKZCl4",
        "outputId": "ccf17237-e262-4716-dcda-54e7c26f244a"
      },
      "execution_count": 8,
      "outputs": [
        {
          "output_type": "stream",
          "name": "stdout",
          "text": [
            "Requirement already satisfied: spacY in /usr/local/lib/python3.7/dist-packages (2.2.4)\n",
            "Requirement already satisfied: blis<0.5.0,>=0.4.0 in /usr/local/lib/python3.7/dist-packages (from spacY) (0.4.1)\n",
            "Requirement already satisfied: thinc==7.4.0 in /usr/local/lib/python3.7/dist-packages (from spacY) (7.4.0)\n",
            "Requirement already satisfied: murmurhash<1.1.0,>=0.28.0 in /usr/local/lib/python3.7/dist-packages (from spacY) (1.0.6)\n",
            "Requirement already satisfied: numpy>=1.15.0 in /usr/local/lib/python3.7/dist-packages (from spacY) (1.21.5)\n",
            "Requirement already satisfied: plac<1.2.0,>=0.9.6 in /usr/local/lib/python3.7/dist-packages (from spacY) (1.1.3)\n",
            "Requirement already satisfied: tqdm<5.0.0,>=4.38.0 in /usr/local/lib/python3.7/dist-packages (from spacY) (4.64.0)\n",
            "Requirement already satisfied: srsly<1.1.0,>=1.0.2 in /usr/local/lib/python3.7/dist-packages (from spacY) (1.0.5)\n",
            "Requirement already satisfied: setuptools in /usr/local/lib/python3.7/dist-packages (from spacY) (57.4.0)\n",
            "Requirement already satisfied: catalogue<1.1.0,>=0.0.7 in /usr/local/lib/python3.7/dist-packages (from spacY) (1.0.0)\n",
            "Requirement already satisfied: requests<3.0.0,>=2.13.0 in /usr/local/lib/python3.7/dist-packages (from spacY) (2.23.0)\n",
            "Requirement already satisfied: wasabi<1.1.0,>=0.4.0 in /usr/local/lib/python3.7/dist-packages (from spacY) (0.9.1)\n",
            "Requirement already satisfied: preshed<3.1.0,>=3.0.2 in /usr/local/lib/python3.7/dist-packages (from spacY) (3.0.6)\n",
            "Requirement already satisfied: cymem<2.1.0,>=2.0.2 in /usr/local/lib/python3.7/dist-packages (from spacY) (2.0.6)\n",
            "Requirement already satisfied: importlib-metadata>=0.20 in /usr/local/lib/python3.7/dist-packages (from catalogue<1.1.0,>=0.0.7->spacY) (4.11.3)\n",
            "Requirement already satisfied: zipp>=0.5 in /usr/local/lib/python3.7/dist-packages (from importlib-metadata>=0.20->catalogue<1.1.0,>=0.0.7->spacY) (3.8.0)\n",
            "Requirement already satisfied: typing-extensions>=3.6.4 in /usr/local/lib/python3.7/dist-packages (from importlib-metadata>=0.20->catalogue<1.1.0,>=0.0.7->spacY) (4.1.1)\n",
            "Requirement already satisfied: urllib3!=1.25.0,!=1.25.1,<1.26,>=1.21.1 in /usr/local/lib/python3.7/dist-packages (from requests<3.0.0,>=2.13.0->spacY) (1.24.3)\n",
            "Requirement already satisfied: certifi>=2017.4.17 in /usr/local/lib/python3.7/dist-packages (from requests<3.0.0,>=2.13.0->spacY) (2021.10.8)\n",
            "Requirement already satisfied: chardet<4,>=3.0.2 in /usr/local/lib/python3.7/dist-packages (from requests<3.0.0,>=2.13.0->spacY) (3.0.4)\n",
            "Requirement already satisfied: idna<3,>=2.5 in /usr/local/lib/python3.7/dist-packages (from requests<3.0.0,>=2.13.0->spacY) (2.10)\n"
          ]
        }
      ]
    },
    {
      "cell_type": "code",
      "source": [
        "# Example POS.1\n",
        "import spacy\n",
        "nlp=spacy.load('en')     # spacy supports 28+ langauges, to select english use load('en')\n",
        "POS_1=nlp(u'HEllo this is my first Spacy program')\n",
        "for token in POS_1:\n",
        "  print(token.text,token.pos_)"
      ],
      "metadata": {
        "colab": {
          "base_uri": "https://localhost:8080/"
        },
        "id": "gp-jKoFtZMXV",
        "outputId": "5c730034-4b91-4e0d-aa1e-20f512df4b6b"
      },
      "execution_count": 14,
      "outputs": [
        {
          "output_type": "stream",
          "name": "stdout",
          "text": [
            "HEllo INTJ\n",
            "this DET\n",
            "is AUX\n",
            "my DET\n",
            "first ADJ\n",
            "Spacy PROPN\n",
            "program NOUN\n"
          ]
        }
      ]
    },
    {
      "cell_type": "code",
      "source": [
        "# Example POS.2\n",
        "POS_2=nlp('I live in Bangalore')\n",
        "for token in POS_1:\n",
        "  print(token.text,token.pos_)"
      ],
      "metadata": {
        "colab": {
          "base_uri": "https://localhost:8080/"
        },
        "id": "ciT9_LhpZbYZ",
        "outputId": "8049f704-ec97-49dc-ddf2-48f3898b0d4c"
      },
      "execution_count": 15,
      "outputs": [
        {
          "output_type": "stream",
          "name": "stdout",
          "text": [
            "HEllo INTJ\n",
            "this DET\n",
            "is AUX\n",
            "my DET\n",
            "first ADJ\n",
            "Spacy PROPN\n",
            "program NOUN\n"
          ]
        }
      ]
    },
    {
      "cell_type": "code",
      "source": [
        "# Example POS.3\n",
        "\n",
        "POS_3=nlp('Google abd Microsoft are two giant companies. THey are giving 50000000 for each student')\n",
        "for token in POS_3:\n",
        "  print(token.text, token.lemma_, token.pos_, token.tag_, token.dep_,token.shape_, token.is_alpha, token.is_stop,sep=\"||\")"
      ],
      "metadata": {
        "colab": {
          "base_uri": "https://localhost:8080/"
        },
        "id": "plTV7WYra1dx",
        "outputId": "1f672b41-0d39-43f6-f802-a28ffa358628"
      },
      "execution_count": 20,
      "outputs": [
        {
          "output_type": "stream",
          "name": "stdout",
          "text": [
            "Google||Google||PROPN||NNP||compound||Xxxxx||True||False\n",
            "abd||abd||PROPN||NNP||compound||xxx||True||False\n",
            "Microsoft||Microsoft||PROPN||NNP||nsubj||Xxxxx||True||False\n",
            "are||be||AUX||VBP||ROOT||xxx||True||True\n",
            "two||two||NUM||CD||nummod||xxx||True||True\n",
            "giant||giant||ADJ||JJ||amod||xxxx||True||False\n",
            "companies||company||NOUN||NNS||attr||xxxx||True||False\n",
            ".||.||PUNCT||.||punct||.||False||False\n",
            "THey||they||PRON||PRP||nsubj||XXxx||True||True\n",
            "are||be||AUX||VBP||aux||xxx||True||True\n",
            "giving||give||VERB||VBG||ROOT||xxxx||True||False\n",
            "50000000||50000000||NUM||CD||dobj||dddd||False||False\n",
            "for||for||ADP||IN||dative||xxx||True||True\n",
            "each||each||DET||DT||det||xxxx||True||True\n",
            "student||student||NOUN||NN||pobj||xxxx||True||False\n"
          ]
        }
      ]
    },
    {
      "cell_type": "code",
      "source": [
        ""
      ],
      "metadata": {
        "id": "WmbvJZKpcquz"
      },
      "execution_count": null,
      "outputs": []
    }
  ]
}