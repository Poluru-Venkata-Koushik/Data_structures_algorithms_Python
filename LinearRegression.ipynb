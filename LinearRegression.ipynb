{
  "nbformat": 4,
  "nbformat_minor": 0,
  "metadata": {
    "colab": {
      "name": "LinearRegression.ipynb",
      "provenance": [],
      "authorship_tag": "ABX9TyNNvRF7J92+lRgXp04CzYuH",
      "include_colab_link": true
    },
    "kernelspec": {
      "name": "python3",
      "display_name": "Python 3"
    },
    "language_info": {
      "name": "python"
    }
  },
  "cells": [
    {
      "cell_type": "markdown",
      "metadata": {
        "id": "view-in-github",
        "colab_type": "text"
      },
      "source": [
        "<a href=\"https://colab.research.google.com/github/Poluru-Venkata-Koushik/Data_structures_algorithms_Python/blob/main/LinearRegression.ipynb\" target=\"_parent\"><img src=\"https://colab.research.google.com/assets/colab-badge.svg\" alt=\"Open In Colab\"/></a>"
      ]
    },
    {
      "cell_type": "code",
      "metadata": {
        "id": "hvPWxfsMA1na"
      },
      "source": [
        ""
      ],
      "execution_count": null,
      "outputs": []
    },
    {
      "cell_type": "markdown",
      "metadata": {
        "id": "LF4iEQFHBP8j"
      },
      "source": [
        "In a linear regression model, each variable is said estimated to be a weighted sum of input values and is offset by some constant called bias.\n"
      ]
    },
    {
      "cell_type": "markdown",
      "metadata": {
        "id": "yFTV9QY8A-F0"
      },
      "source": [
        "for example,\n",
        "the variables for a car's success yeild are safety performance \n",
        "then `yeild=c1*safety+c2*performance+b1)` b1 is the bias\n"
      ]
    },
    {
      "cell_type": "code",
      "metadata": {
        "id": "RVDrhYS0Bwps"
      },
      "source": [
        "#1st algorithm. (kinda a crop yeild measurement)\n",
        "import numpy as np\n",
        "import torch"
      ],
      "execution_count": 1,
      "outputs": []
    },
    {
      "cell_type": "code",
      "metadata": {
        "colab": {
          "base_uri": "https://localhost:8080/"
        },
        "id": "6K0B0fsaCtWp",
        "outputId": "def17604-4f81-4c67-bd48-4ee0ae6dbba0"
      },
      "source": [
        "# array's representations (temp,rainfall,humidity)            \n",
        "inputs=np.array([[73,67,43],[91,88,64],[87,134,58],[102,43,37],[69,96,70]],dtype='float32')\n",
        "inputs"
      ],
      "execution_count": 3,
      "outputs": [
        {
          "output_type": "execute_result",
          "data": {
            "text/plain": [
              "array([[ 73.,  67.,  43.],\n",
              "       [ 91.,  88.,  64.],\n",
              "       [ 87., 134.,  58.],\n",
              "       [102.,  43.,  37.],\n",
              "       [ 69.,  96.,  70.]], dtype=float32)"
            ]
          },
          "metadata": {
            "tags": []
          },
          "execution_count": 3
        }
      ]
    },
    {
      "cell_type": "code",
      "metadata": {
        "colab": {
          "base_uri": "https://localhost:8080/"
        },
        "id": "7pMVT7dHDcs2",
        "outputId": "dc1c665d-486a-4ccd-d5df-0ab1c5e99354"
      },
      "source": [
        "Target_yields=np.array([[56,70],[81,101],[119,133],[22,37],[103,119]],dtype='float32')\n",
        "Target_yields"
      ],
      "execution_count": 4,
      "outputs": [
        {
          "output_type": "execute_result",
          "data": {
            "text/plain": [
              "array([[ 56.,  70.],\n",
              "       [ 81., 101.],\n",
              "       [119., 133.],\n",
              "       [ 22.,  37.],\n",
              "       [103., 119.]], dtype=float32)"
            ]
          },
          "metadata": {
            "tags": []
          },
          "execution_count": 4
        }
      ]
    },
    {
      "cell_type": "code",
      "metadata": {
        "colab": {
          "base_uri": "https://localhost:8080/"
        },
        "id": "cmHm6KUhDw1O",
        "outputId": "61bb5004-ab85-454a-c6fe-555aa05221d6"
      },
      "source": [
        "#convert them into pytorch tensors\n",
        "inputs=torch.from_numpy(inputs)\n",
        "Target_yields=torch.from_numpy(Target_yields)\n",
        "print(inputs,Target_yields)"
      ],
      "execution_count": 5,
      "outputs": [
        {
          "output_type": "stream",
          "text": [
            "tensor([[ 73.,  67.,  43.],\n",
            "        [ 91.,  88.,  64.],\n",
            "        [ 87., 134.,  58.],\n",
            "        [102.,  43.,  37.],\n",
            "        [ 69.,  96.,  70.]]) tensor([[ 56.,  70.],\n",
            "        [ 81., 101.],\n",
            "        [119., 133.],\n",
            "        [ 22.,  37.],\n",
            "        [103., 119.]])\n"
          ],
          "name": "stdout"
        }
      ]
    },
    {
      "cell_type": "code",
      "metadata": {
        "colab": {
          "base_uri": "https://localhost:8080/",
          "height": 36
        },
        "id": "ZbKGFCr-EY3o",
        "outputId": "650c6a64-726f-467d-d139-3e4cde6fa429"
      },
      "source": [
        "'''\n",
        "#weights and biases can be expressed as matrix\n",
        "[\n",
        "  wt11  wt12  b1\n",
        "  wt21  wt22  b2\n",
        "]\n",
        "'''"
      ],
      "execution_count": 6,
      "outputs": [
        {
          "output_type": "execute_result",
          "data": {
            "application/vnd.google.colaboratory.intrinsic+json": {
              "type": "string"
            },
            "text/plain": [
              "'\\n#weights and biases can be expressed as matrix\\n[\\n  wt11  wt12  b1\\n  wt21  wt22  b2\\n]\\n'"
            ]
          },
          "metadata": {
            "tags": []
          },
          "execution_count": 6
        }
      ]
    },
    {
      "cell_type": "code",
      "metadata": {
        "colab": {
          "base_uri": "https://localhost:8080/"
        },
        "id": "RyWEdyA1E1Ug",
        "outputId": "932664a6-61e2-4aa7-e1d3-98ce3e622228"
      },
      "source": [
        "#torch.randn creates a tensor with given shape and randomly picks values from normal districbutiondistribution \n",
        "w=torch.randn(2,3,requires_grad=True)\n",
        "b=torch.randn(2,requires_grad=True)\n",
        "print(w)\n",
        "print(b)\n"
      ],
      "execution_count": 22,
      "outputs": [
        {
          "output_type": "stream",
          "text": [
            "tensor([[ 1.3593, -0.5934, -0.6924],\n",
            "        [-0.5372,  0.3190,  0.7824]], requires_grad=True)\n",
            "tensor([-0.0425,  0.7292], requires_grad=True)\n"
          ],
          "name": "stdout"
        }
      ]
    },
    {
      "cell_type": "code",
      "metadata": {
        "id": "9uZHHY-7FgJ1"
      },
      "source": [
        ""
      ],
      "execution_count": null,
      "outputs": []
    }
  ]
}