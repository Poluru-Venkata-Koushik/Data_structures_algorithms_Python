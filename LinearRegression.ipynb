{
  "nbformat": 4,
  "nbformat_minor": 0,
  "metadata": {
    "colab": {
      "name": "LinearRegression.ipynb",
      "provenance": [],
      "collapsed_sections": [],
      "authorship_tag": "ABX9TyP2j4oMAjroDr6eBx/imO8f",
      "include_colab_link": true
    },
    "kernelspec": {
      "name": "python3",
      "display_name": "Python 3"
    },
    "language_info": {
      "name": "python"
    }
  },
  "cells": [
    {
      "cell_type": "markdown",
      "metadata": {
        "id": "view-in-github",
        "colab_type": "text"
      },
      "source": [
        "<a href=\"https://colab.research.google.com/github/Poluru-Venkata-Koushik/Data_structures_algorithms_Python/blob/main/LinearRegression.ipynb\" target=\"_parent\"><img src=\"https://colab.research.google.com/assets/colab-badge.svg\" alt=\"Open In Colab\"/></a>"
      ]
    },
    {
      "cell_type": "code",
      "metadata": {
        "id": "hvPWxfsMA1na"
      },
      "source": [
        ""
      ],
      "execution_count": null,
      "outputs": []
    },
    {
      "cell_type": "markdown",
      "metadata": {
        "id": "LF4iEQFHBP8j"
      },
      "source": [
        "In a linear regression model, each variable is said estimated to be a weighted sum of input values and is offset by some constant called bias.\n"
      ]
    },
    {
      "cell_type": "markdown",
      "metadata": {
        "id": "yFTV9QY8A-F0"
      },
      "source": [
        "for example,\n",
        "the variables for a car's success yeild are safety performance \n",
        "then `yeild=c1*safety+c2*performance+b1)` b1 is the bias\n"
      ]
    },
    {
      "cell_type": "code",
      "metadata": {
        "id": "RVDrhYS0Bwps"
      },
      "source": [
        "#1st algorithm. (kinda a crop yeild measurement)\n",
        "import numpy as np\n",
        "import torch"
      ],
      "execution_count": null,
      "outputs": []
    },
    {
      "cell_type": "code",
      "metadata": {
        "colab": {
          "base_uri": "https://localhost:8080/"
        },
        "id": "6K0B0fsaCtWp",
        "outputId": "def17604-4f81-4c67-bd48-4ee0ae6dbba0"
      },
      "source": [
        "# array's representations (temp,rainfall,humidity)            \n",
        "inputs=np.array([[73,67,43],[91,88,64],[87,134,58],[102,43,37],[69,96,70]],dtype='float32')\n",
        "inputs"
      ],
      "execution_count": null,
      "outputs": [
        {
          "output_type": "execute_result",
          "data": {
            "text/plain": [
              "array([[ 73.,  67.,  43.],\n",
              "       [ 91.,  88.,  64.],\n",
              "       [ 87., 134.,  58.],\n",
              "       [102.,  43.,  37.],\n",
              "       [ 69.,  96.,  70.]], dtype=float32)"
            ]
          },
          "metadata": {
            "tags": []
          },
          "execution_count": 3
        }
      ]
    },
    {
      "cell_type": "code",
      "metadata": {
        "colab": {
          "base_uri": "https://localhost:8080/"
        },
        "id": "7pMVT7dHDcs2",
        "outputId": "dc1c665d-486a-4ccd-d5df-0ab1c5e99354"
      },
      "source": [
        "Target_yields=np.array([[56,70],[81,101],[119,133],[22,37],[103,119]],dtype='float32')\n",
        "Target_yields"
      ],
      "execution_count": null,
      "outputs": [
        {
          "output_type": "execute_result",
          "data": {
            "text/plain": [
              "array([[ 56.,  70.],\n",
              "       [ 81., 101.],\n",
              "       [119., 133.],\n",
              "       [ 22.,  37.],\n",
              "       [103., 119.]], dtype=float32)"
            ]
          },
          "metadata": {
            "tags": []
          },
          "execution_count": 4
        }
      ]
    },
    {
      "cell_type": "code",
      "metadata": {
        "colab": {
          "base_uri": "https://localhost:8080/"
        },
        "id": "cmHm6KUhDw1O",
        "outputId": "61bb5004-ab85-454a-c6fe-555aa05221d6"
      },
      "source": [
        "#convert them into pytorch tensors\n",
        "inputs=torch.from_numpy(inputs)\n",
        "Target_yields=torch.from_numpy(Target_yields)\n",
        "print(inputs,Target_yields)"
      ],
      "execution_count": null,
      "outputs": [
        {
          "output_type": "stream",
          "text": [
            "tensor([[ 73.,  67.,  43.],\n",
            "        [ 91.,  88.,  64.],\n",
            "        [ 87., 134.,  58.],\n",
            "        [102.,  43.,  37.],\n",
            "        [ 69.,  96.,  70.]]) tensor([[ 56.,  70.],\n",
            "        [ 81., 101.],\n",
            "        [119., 133.],\n",
            "        [ 22.,  37.],\n",
            "        [103., 119.]])\n"
          ],
          "name": "stdout"
        }
      ]
    },
    {
      "cell_type": "code",
      "metadata": {
        "colab": {
          "base_uri": "https://localhost:8080/",
          "height": 36
        },
        "id": "ZbKGFCr-EY3o",
        "outputId": "650c6a64-726f-467d-d139-3e4cde6fa429"
      },
      "source": [
        "'''\n",
        "#weights and biases can be expressed as matrix\n",
        "[\n",
        "  wt11  wt12  b1\n",
        "  wt21  wt22  b2\n",
        "]\n",
        "'''"
      ],
      "execution_count": null,
      "outputs": [
        {
          "output_type": "execute_result",
          "data": {
            "application/vnd.google.colaboratory.intrinsic+json": {
              "type": "string"
            },
            "text/plain": [
              "'\\n#weights and biases can be expressed as matrix\\n[\\n  wt11  wt12  b1\\n  wt21  wt22  b2\\n]\\n'"
            ]
          },
          "metadata": {
            "tags": []
          },
          "execution_count": 6
        }
      ]
    },
    {
      "cell_type": "code",
      "metadata": {
        "colab": {
          "base_uri": "https://localhost:8080/"
        },
        "id": "RyWEdyA1E1Ug",
        "outputId": "932664a6-61e2-4aa7-e1d3-98ce3e622228"
      },
      "source": [
        "#torch.randn creates a tensor with given shape and randomly picks values from normal districbutiondistribution \n",
        "w=torch.randn(2,3,requires_grad=True)\n",
        "b=torch.randn(2,requires_grad=True)\n",
        "print(w)\n",
        "print(b)\n"
      ],
      "execution_count": null,
      "outputs": [
        {
          "output_type": "stream",
          "text": [
            "tensor([[ 1.3593, -0.5934, -0.6924],\n",
            "        [-0.5372,  0.3190,  0.7824]], requires_grad=True)\n",
            "tensor([-0.0425,  0.7292], requires_grad=True)\n"
          ],
          "name": "stdout"
        }
      ]
    },
    {
      "cell_type": "code",
      "metadata": {
        "id": "9uZHHY-7FgJ1"
      },
      "source": [
        "#https://youtu.be/m_tkL7DufPk?t=2301.Watch to understand if u forget why we do transpose of the matrix\n"
      ],
      "execution_count": null,
      "outputs": []
    },
    {
      "cell_type": "code",
      "metadata": {
        "colab": {
          "base_uri": "https://localhost:8080/"
        },
        "id": "YyIThJUpGVA0",
        "outputId": "602d2ad8-d958-4b0f-f386-0c097043083a"
      },
      "source": [
        "# inputs*W'+b can be performed by the below function\n",
        "\n",
        "\n",
        "def predict_fruita_fruitb(inputs):\n",
        "  return inputs @ w.t()+b # @ performs matrix multiplication and .t() for transpose\n",
        "predict_fruita_fruitb(inputs)"
      ],
      "execution_count": null,
      "outputs": [
        {
          "output_type": "execute_result",
          "data": {
            "text/plain": [
              "tensor([[ 29.6601,  16.5313],\n",
              "        [ 27.1271,  29.9917],\n",
              "        [ -1.4519,  42.1215],\n",
              "        [ 87.4769, -11.3991],\n",
              "        [-11.6800,  49.0571]], grad_fn=<AddBackward0>)"
            ]
          },
          "metadata": {
            "tags": []
          },
          "execution_count": 29
        }
      ]
    },
    {
      "cell_type": "code",
      "metadata": {
        "colab": {
          "base_uri": "https://localhost:8080/"
        },
        "id": "MY41VE32Hi2o",
        "outputId": "66521584-f307-4cdf-87a8-64eaa6d91af3"
      },
      "source": [
        "print(predict_fruita_fruitb(inputs))\n",
        "print(Target_yields)\n"
      ],
      "execution_count": null,
      "outputs": [
        {
          "output_type": "stream",
          "text": [
            "tensor([[ 29.6601,  16.5313],\n",
            "        [ 27.1271,  29.9917],\n",
            "        [ -1.4519,  42.1215],\n",
            "        [ 87.4769, -11.3991],\n",
            "        [-11.6800,  49.0571]], grad_fn=<AddBackward0>)\n",
            "tensor([[ 56.,  70.],\n",
            "        [ 81., 101.],\n",
            "        [119., 133.],\n",
            "        [ 22.,  37.],\n",
            "        [103., 119.]])\n"
          ],
          "name": "stdout"
        }
      ]
    },
    {
      "cell_type": "code",
      "metadata": {
        "colab": {
          "base_uri": "https://localhost:8080/"
        },
        "id": "L2Y1YZCmHx8e",
        "outputId": "9a47411a-0ec7-4120-d8f1-0beb6c4c0ddf"
      },
      "source": [
        "print(Target_yields-predict_fruita_fruitb(inputs)) # this is very worse"
      ],
      "execution_count": null,
      "outputs": [
        {
          "output_type": "stream",
          "text": [
            "tensor([[ 26.3399,  53.4687],\n",
            "        [ 53.8729,  71.0083],\n",
            "        [120.4519,  90.8785],\n",
            "        [-65.4769,  48.3991],\n",
            "        [114.6800,  69.9429]], grad_fn=<SubBackward0>)\n"
          ],
          "name": "stdout"
        }
      ]
    },
    {
      "cell_type": "code",
      "metadata": {
        "colab": {
          "base_uri": "https://localhost:8080/"
        },
        "id": "iMCBRuDZJD49",
        "outputId": "a90254b9-34bd-4476-ad66-43620bfe4e3f"
      },
      "source": [
        "#Loss function (MEAN SQUARED ERROR)MSE\n",
        "\n",
        "diff=predict_fruita_fruitb(inputs)-Target_yields\n",
        "diff=diff*diff\n",
        "average=(torch.sum(diff))/diff.numel() #numel returns the number of elements in array\n",
        "average #this prints the mean squared error. we square to remove negative polarities if any"
      ],
      "execution_count": null,
      "outputs": [
        {
          "output_type": "execute_result",
          "data": {
            "text/plain": [
              "tensor(5893.7949, grad_fn=<DivBackward0>)"
            ]
          },
          "metadata": {
            "tags": []
          },
          "execution_count": 38
        }
      ]
    },
    {
      "cell_type": "code",
      "metadata": {
        "colab": {
          "base_uri": "https://localhost:8080/"
        },
        "id": "Hy2Gw0mUJ8-C",
        "outputId": "12b32a51-7d08-43c1-93cb-6030c31d9ffa"
      },
      "source": [
        "#mse function\n",
        "\n",
        "def mse(pred,target):\n",
        "  diff=pred-target\n",
        "  return ((torch.sum(diff*diff))/diff.numel())\n",
        "loss=mse(predict_fruita_fruitb(inputs),Target_yields)\n",
        "print(loss)"
      ],
      "execution_count": null,
      "outputs": [
        {
          "output_type": "stream",
          "text": [
            "tensor(5893.7949, grad_fn=<DivBackward0>)\n"
          ],
          "name": "stdout"
        }
      ]
    },
    {
      "cell_type": "code",
      "metadata": {
        "colab": {
          "base_uri": "https://localhost:8080/"
        },
        "id": "-lQSamQaKYwQ",
        "outputId": "dc9d990a-3863-401e-ef21-06bb2d8c9393"
      },
      "source": [
        "print(w)\n",
        "print(w.grad) # prints out derivatives of loss wrt to weights"
      ],
      "execution_count": null,
      "outputs": [
        {
          "output_type": "stream",
          "text": [
            "tensor([[ 1.3593, -0.5934, -0.6924],\n",
            "        [-0.5372,  0.3190,  0.7824]], requires_grad=True)\n",
            "tensor([[-3707.7676, -6167.9839, -3434.3296],\n",
            "        [-5606.8345, -6160.9072, -3760.2822]])\n"
          ],
          "name": "stdout"
        }
      ]
    },
    {
      "cell_type": "code",
      "metadata": {
        "colab": {
          "base_uri": "https://localhost:8080/"
        },
        "id": "MFvOr54DL--w",
        "outputId": "dd93e4e9-9ba9-4bed-d584-42e1c91a8dc1"
      },
      "source": [
        "print(b)\n",
        "print(b.grad)"
      ],
      "execution_count": null,
      "outputs": [
        {
          "output_type": "stream",
          "text": [
            "tensor([-0.0425,  0.7292], requires_grad=True)\n",
            "tensor([-49.9736, -66.7395])\n"
          ],
          "name": "stdout"
        }
      ]
    },
    {
      "cell_type": "code",
      "metadata": {
        "id": "UW6ljQv_Md-P"
      },
      "source": [
        "#derivative of loss wrt to weight gives us slope of loss function(rate of change of loss)\n",
        "# b.grad and w.gard gives us the slopes. postive slope says that if weight is increased, loss increases. and if negative slope is increasing, then loss will decrease \n",
        " "
      ],
      "execution_count": null,
      "outputs": []
    },
    {
      "cell_type": "code",
      "metadata": {
        "colab": {
          "base_uri": "https://localhost:8080/"
        },
        "id": "sPFKIYPnN45v",
        "outputId": "ffb50245-43bf-4d4a-f963-0a32cd30b8a4"
      },
      "source": [
        " with torch.no_grad():\n",
        "   w-=w.grad * 1e-5\n",
        "   b-=b.grad * 1e-5 \n",
        "print(w,b)"
      ],
      "execution_count": null,
      "outputs": [
        {
          "output_type": "stream",
          "text": [
            "tensor([[ 1.4335, -0.4700, -0.6237],\n",
            "        [-0.4251,  0.4422,  0.8576]], requires_grad=True) tensor([-0.0415,  0.7305], requires_grad=True)\n"
          ],
          "name": "stdout"
        }
      ]
    },
    {
      "cell_type": "code",
      "metadata": {
        "colab": {
          "base_uri": "https://localhost:8080/"
        },
        "id": "Zna_AlkEPoA4",
        "outputId": "78d62dcc-f54e-4af8-d8c0-64ee25dc56c2"
      },
      "source": [
        "model_2=predict_fruita_fruitb(inputs)\n",
        "loss=mse(model_2,Target_yields)\n",
        "print(loss)"
      ],
      "execution_count": null,
      "outputs": [
        {
          "output_type": "stream",
          "text": [
            "tensor(3470.3855, grad_fn=<DivBackward0>)\n"
          ],
          "name": "stdout"
        }
      ]
    }
  ]
}