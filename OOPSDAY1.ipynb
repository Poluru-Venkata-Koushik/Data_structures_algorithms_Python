{
  "nbformat": 4,
  "nbformat_minor": 0,
  "metadata": {
    "colab": {
      "name": "OOPSDAY1.ipynb",
      "provenance": [],
      "authorship_tag": "ABX9TyN5fVfshqjwUS8lpLtcTg5B",
      "include_colab_link": true
    },
    "kernelspec": {
      "name": "python3",
      "display_name": "Python 3"
    },
    "language_info": {
      "name": "python"
    }
  },
  "cells": [
    {
      "cell_type": "markdown",
      "metadata": {
        "id": "view-in-github",
        "colab_type": "text"
      },
      "source": [
        "<a href=\"https://colab.research.google.com/github/Poluru-Venkata-Koushik/Data_structures_algorithms_Python/blob/main/OOPSDAY1.ipynb\" target=\"_parent\"><img src=\"https://colab.research.google.com/assets/colab-badge.svg\" alt=\"Open In Colab\"/></a>"
      ]
    },
    {
      "cell_type": "markdown",
      "source": [
        "**OOPS IN PYTHON**"
      ],
      "metadata": {
        "id": "ZeSgdUsbUIyL"
      }
    },
    {
      "cell_type": "code",
      "source": [
        "# CLASS IS A blue print for an object "
      ],
      "metadata": {
        "id": "rPoWJ9HjULhV"
      },
      "execution_count": 1,
      "outputs": []
    },
    {
      "cell_type": "code",
      "source": [
        "# EXAMPLE"
      ],
      "metadata": {
        "id": "UvW45Ra1Uawz"
      },
      "execution_count": 2,
      "outputs": []
    },
    {
      "cell_type": "code",
      "source": [
        "class new_object():\n",
        "  pass"
      ],
      "metadata": {
        "id": "aFzIHKUCUhAY"
      },
      "execution_count": 3,
      "outputs": []
    },
    {
      "cell_type": "code",
      "source": [
        "#Object is an instantiation of a class. It has a state, behavior and an entity. When an object is initialized, noo memory is allocated to it"
      ],
      "metadata": {
        "id": "5AEQYd9OUi4F"
      },
      "execution_count": 5,
      "outputs": []
    },
    {
      "cell_type": "code",
      "source": [
        "ob1= new_object()"
      ],
      "metadata": {
        "id": "XMHJzy1YU8ba"
      },
      "execution_count": 6,
      "outputs": []
    },
    {
      "cell_type": "code",
      "source": [
        "class car_db():\n",
        "  def __init__(self,name,model,make):\n",
        "    self.name=name\n",
        "    self.model=model\n",
        "    self.make=make\n",
        "  def __print__(self):\n",
        "    print(\"Name : {:>}, Model : {:>}, Make :{:>}\".format(self.name,self.model,self.make))"
      ],
      "metadata": {
        "id": "JDKEBI57VFDo"
      },
      "execution_count": 14,
      "outputs": []
    },
    {
      "cell_type": "code",
      "source": [
        "a0=car_db( \" BMW X1 2022  \",\"D line\",\" BMW MOTORAD\")\n",
        "a1=car_db( \" BMW X2 2022  \",\"M line\",\" BMW MOTORAD\")\n",
        "a2=car_db( \" BMW X3 2022  \",\"M line\",\" BMW MOTORAD\")"
      ],
      "metadata": {
        "id": "De4-pKJTVYhT"
      },
      "execution_count": 15,
      "outputs": []
    },
    {
      "cell_type": "code",
      "source": [
        "a0.__print__()"
      ],
      "metadata": {
        "colab": {
          "base_uri": "https://localhost:8080/"
        },
        "id": "QlGjJjiSWUHv",
        "outputId": "56dfd61f-76c4-4452-aebf-0bdf922e3277"
      },
      "execution_count": 16,
      "outputs": [
        {
          "output_type": "stream",
          "name": "stdout",
          "text": [
            "Name :  BMW X1 2022  , Model : D line, Make : BMW MOTORAD\n"
          ]
        }
      ]
    },
    {
      "cell_type": "code",
      "source": [
        "a1.__print__()"
      ],
      "metadata": {
        "colab": {
          "base_uri": "https://localhost:8080/"
        },
        "id": "ZZY0bvFtWaWX",
        "outputId": "bf59fc8e-b524-4d50-ab07-0927fbf96f83"
      },
      "execution_count": 18,
      "outputs": [
        {
          "output_type": "stream",
          "name": "stdout",
          "text": [
            "Name :  BMW X2 2022  , Model : M line, Make : BMW MOTORAD\n"
          ]
        }
      ]
    },
    {
      "cell_type": "code",
      "source": [
        "# CONSTRUCTOR is a method that is called when an object  is created. Defined in class and can be used to initialize basic variables\n",
        "# Every class has a constructor. but we need not mention it everytime\n",
        "\n",
        "#__init__ is a constructor"
      ],
      "metadata": {
        "id": "Firhmx45W20o"
      },
      "execution_count": 23,
      "outputs": []
    },
    {
      "cell_type": "code",
      "source": [
        "class Human():\n",
        "  def __init__(self):\n",
        "    self.legs=2\n",
        "    self.hands=2\n",
        "\n",
        "\n",
        "    # in this example , 2 variables are initialized  usin constructor\n",
        "\n",
        "\n",
        "# if we create a new object named \"Koushik\", we need not initialize legs and hands count again"
      ],
      "metadata": {
        "id": "EBxDB9nbXCrA"
      },
      "execution_count": 26,
      "outputs": []
    },
    {
      "cell_type": "code",
      "source": [
        "koushik=Human()\n",
        "koushik.legs"
      ],
      "metadata": {
        "colab": {
          "base_uri": "https://localhost:8080/"
        },
        "id": "0WfsyKBEXqQr",
        "outputId": "ce47b2f1-66ac-4404-a9a0-08550a3e8253"
      },
      "execution_count": 32,
      "outputs": [
        {
          "output_type": "execute_result",
          "data": {
            "text/plain": [
              "2"
            ]
          },
          "metadata": {},
          "execution_count": 32
        }
      ]
    },
    {
      "cell_type": "code",
      "source": [
        "#The function init(self) builds your object\n",
        "#The default actions can be defined in methods. These methods can be called in the constructor"
      ],
      "metadata": {
        "id": "uo5h9wwcYMXI"
      },
      "execution_count": 35,
      "outputs": []
    },
    {
      "cell_type": "code",
      "source": [
        "class car():\n",
        "  def __init__(self):\n",
        "    self.wheel=4\n",
        "    self.__drive__()\n",
        "    self.wheels()\n",
        "  def __drive__(self):\n",
        "    print(\"Fasten your seat belts\")\n",
        "  def wheels(self):\n",
        "    print(\"Traction control ON\")\n"
      ],
      "metadata": {
        "id": "l4lvSzcsYOfF"
      },
      "execution_count": 48,
      "outputs": []
    },
    {
      "cell_type": "code",
      "source": [
        "a=car()"
      ],
      "metadata": {
        "colab": {
          "base_uri": "https://localhost:8080/"
        },
        "id": "ILbqTsb_ZXnS",
        "outputId": "c40eba31-565e-4b9a-e38a-6cd2a5cd01c5"
      },
      "execution_count": 49,
      "outputs": [
        {
          "output_type": "stream",
          "name": "stdout",
          "text": [
            "Fasten your seat belts\n",
            "Traction control ON\n"
          ]
        }
      ]
    },
    {
      "cell_type": "markdown",
      "source": [
        "**Giving default values**"
      ],
      "metadata": {
        "id": "xFdlCbMQaF1e"
      }
    },
    {
      "cell_type": "code",
      "source": [
        ""
      ],
      "metadata": {
        "id": "vKxEUvfcaKQz"
      },
      "execution_count": null,
      "outputs": []
    }
  ]
}