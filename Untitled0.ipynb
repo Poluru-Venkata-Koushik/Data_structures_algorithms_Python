{
  "nbformat": 4,
  "nbformat_minor": 0,
  "metadata": {
    "colab": {
      "name": "Untitled0.ipynb",
      "provenance": [],
      "authorship_tag": "ABX9TyPQSuXRai6RidncdtaNW1Sc",
      "include_colab_link": true
    },
    "kernelspec": {
      "name": "python3",
      "display_name": "Python 3"
    },
    "language_info": {
      "name": "python"
    }
  },
  "cells": [
    {
      "cell_type": "markdown",
      "metadata": {
        "id": "view-in-github",
        "colab_type": "text"
      },
      "source": [
        "<a href=\"https://colab.research.google.com/github/Poluru-Venkata-Koushik/Data_structures_algorithms_Python/blob/main/Untitled0.ipynb\" target=\"_parent\"><img src=\"https://colab.research.google.com/assets/colab-badge.svg\" alt=\"Open In Colab\"/></a>"
      ]
    },
    {
      "cell_type": "code",
      "metadata": {
        "id": "lTEjbErBT1Sc"
      },
      "source": [
        "import torch"
      ],
      "execution_count": 4,
      "outputs": []
    },
    {
      "cell_type": "code",
      "metadata": {
        "colab": {
          "base_uri": "https://localhost:8080/"
        },
        "id": "yBMnJCFbUC8h",
        "outputId": "130aa93e-2cef-422a-ac7b-b40ae4bc860d"
      },
      "source": [
        "t1=torch.tensor([1.,2,3,4,5,6,7])\n",
        "t1\n"
      ],
      "execution_count": 5,
      "outputs": [
        {
          "output_type": "execute_result",
          "data": {
            "text/plain": [
              "tensor([1., 2., 3., 4., 5., 6., 7.])"
            ]
          },
          "metadata": {
            "tags": []
          },
          "execution_count": 5
        }
      ]
    },
    {
      "cell_type": "code",
      "metadata": {
        "id": "AA-i7Iq0VwML"
      },
      "source": [
        ""
      ],
      "execution_count": 5,
      "outputs": []
    },
    {
      "cell_type": "code",
      "metadata": {
        "id": "xjQOgwVGUOAa"
      },
      "source": [
        "# all the elements of a tensor have the same datatype"
      ],
      "execution_count": null,
      "outputs": []
    },
    {
      "cell_type": "code",
      "metadata": {
        "colab": {
          "base_uri": "https://localhost:8080/"
        },
        "id": "homWOHfiUYvd",
        "outputId": "e2468d86-5301-4520-e09a-da6619932598"
      },
      "source": [
        "t2=torch.tensor([[1.,2,3],\n",
        "                 [4,5,6]])\n",
        "t2"
      ],
      "execution_count": 6,
      "outputs": [
        {
          "output_type": "execute_result",
          "data": {
            "text/plain": [
              "tensor([[1., 2., 3.],\n",
              "        [4., 5., 6.]])"
            ]
          },
          "metadata": {
            "tags": []
          },
          "execution_count": 6
        }
      ]
    },
    {
      "cell_type": "code",
      "metadata": {
        "colab": {
          "base_uri": "https://localhost:8080/"
        },
        "id": "2l33sJL4U0rJ",
        "outputId": "71c33ab5-f870-4704-dcce-e6231b98fa5e"
      },
      "source": [
        "t3=torch.tensor([[1,2,3],[4,5,6],[7.,8,9]])\n",
        "t3"
      ],
      "execution_count": 7,
      "outputs": [
        {
          "output_type": "execute_result",
          "data": {
            "text/plain": [
              "tensor([[1., 2., 3.],\n",
              "        [4., 5., 6.],\n",
              "        [7., 8., 9.]])"
            ]
          },
          "metadata": {
            "tags": []
          },
          "execution_count": 7
        }
      ]
    },
    {
      "cell_type": "code",
      "metadata": {
        "id": "KAAFLVBOZOP5"
      },
      "source": [
        ""
      ],
      "execution_count": null,
      "outputs": []
    },
    {
      "cell_type": "code",
      "metadata": {
        "colab": {
          "base_uri": "https://localhost:8080/"
        },
        "id": "DAW3CFj-ZWXu",
        "outputId": "a51547bc-419e-4597-f7af-1977fc4592da"
      },
      "source": [
        "x = torch.tensor(3.)\n",
        "w = torch.tensor(4., requires_grad=True)\n",
        "b = torch.tensor(5., requires_grad=True)\n",
        "\n",
        "y=x*w+b\n",
        "y"
      ],
      "execution_count": 8,
      "outputs": [
        {
          "output_type": "execute_result",
          "data": {
            "text/plain": [
              "tensor(17., grad_fn=<AddBackward0>)"
            ]
          },
          "metadata": {
            "tags": []
          },
          "execution_count": 8
        }
      ]
    },
    {
      "cell_type": "code",
      "metadata": {
        "id": "4GwRYZFlZaxb"
      },
      "source": [
        ""
      ],
      "execution_count": 2,
      "outputs": []
    },
    {
      "cell_type": "code",
      "metadata": {
        "colab": {
          "base_uri": "https://localhost:8080/"
        },
        "id": "ASFWhYEJZdr4",
        "outputId": "1dde76dc-8377-4326-8df6-68aca23a0b71"
      },
      "source": [
        "print(\"dy/dx:\",x.grad)\n",
        "print(\"dy/dw:\",w.grad)\n",
        "print(\"dy/db:\",b.grad)"
      ],
      "execution_count": 9,
      "outputs": [
        {
          "output_type": "stream",
          "text": [
            "dy/dx: None\n",
            "dy/dw: None\n",
            "dy/db: None\n"
          ],
          "name": "stdout"
        }
      ]
    },
    {
      "cell_type": "code",
      "metadata": {
        "colab": {
          "base_uri": "https://localhost:8080/"
        },
        "id": "2sIiBgv08NTd",
        "outputId": "ff4cefd7-40a7-4488-ec76-d0bff70a2d78"
      },
      "source": [
        "y.backward() # to allow derivative . if not done, the derivative shows None. see above cell for reference\n",
        "print(\"dy/dx:\",x.grad)\n",
        "print(\"dy/dw:\",w.grad)\n",
        "print(\"dy/db:\",b.grad)"
      ],
      "execution_count": 10,
      "outputs": [
        {
          "output_type": "stream",
          "text": [
            "dy/dx: None\n",
            "dy/dw: tensor(3.)\n",
            "dy/db: tensor(1.)\n"
          ],
          "name": "stdout"
        }
      ]
    },
    {
      "cell_type": "code",
      "metadata": {
        "colab": {
          "base_uri": "https://localhost:8080/"
        },
        "id": "iF8ZEp9t8YoU",
        "outputId": "bef8ef0f-c753-47b2-c8ab-f3a0df9b2520"
      },
      "source": [
        "#torch.full(shape,value) fills the matrix with value in that shape\n",
        "t1=torch.full((3,5),1.)\n",
        "t1"
      ],
      "execution_count": 13,
      "outputs": [
        {
          "output_type": "execute_result",
          "data": {
            "text/plain": [
              "tensor([[1., 1., 1., 1., 1.],\n",
              "        [1., 1., 1., 1., 1.],\n",
              "        [1., 1., 1., 1., 1.]])"
            ]
          },
          "metadata": {
            "tags": []
          },
          "execution_count": 13
        }
      ]
    },
    {
      "cell_type": "code",
      "metadata": {
        "colab": {
          "base_uri": "https://localhost:8080/"
        },
        "id": "4pY2lUan9sfu",
        "outputId": "1a50d1de-b20d-432f-c558-b820b76c659e"
      },
      "source": [
        "#torch.cat concatenates the given tensors\n",
        "t2=torch.tensor([[1,2,3,4,5],[6,7,8,9,0]])\n",
        "t2\n",
        "t3=torch.cat((t1,t2))\n",
        "t3"
      ],
      "execution_count": 18,
      "outputs": [
        {
          "output_type": "execute_result",
          "data": {
            "text/plain": [
              "tensor([[1., 1., 1., 1., 1.],\n",
              "        [1., 1., 1., 1., 1.],\n",
              "        [1., 1., 1., 1., 1.],\n",
              "        [1., 2., 3., 4., 5.],\n",
              "        [6., 7., 8., 9., 0.]])"
            ]
          },
          "metadata": {
            "tags": []
          },
          "execution_count": 18
        }
      ]
    },
    {
      "cell_type": "code",
      "metadata": {
        "colab": {
          "base_uri": "https://localhost:8080/"
        },
        "id": "TUsx0M57-TVM",
        "outputId": "a8a114e6-86ba-449d-8094-3e7a24580aa5"
      },
      "source": [
        "t4=torch.sin(t3)\n",
        "t4"
      ],
      "execution_count": 19,
      "outputs": [
        {
          "output_type": "execute_result",
          "data": {
            "text/plain": [
              "tensor([[ 0.8415,  0.8415,  0.8415,  0.8415,  0.8415],\n",
              "        [ 0.8415,  0.8415,  0.8415,  0.8415,  0.8415],\n",
              "        [ 0.8415,  0.8415,  0.8415,  0.8415,  0.8415],\n",
              "        [ 0.8415,  0.9093,  0.1411, -0.7568, -0.9589],\n",
              "        [-0.2794,  0.6570,  0.9894,  0.4121,  0.0000]])"
            ]
          },
          "metadata": {
            "tags": []
          },
          "execution_count": 19
        }
      ]
    },
    {
      "cell_type": "code",
      "metadata": {
        "id": "Y7MWTBTJ-urK"
      },
      "source": [
        ""
      ],
      "execution_count": null,
      "outputs": []
    },
    {
      "cell_type": "markdown",
      "metadata": {
        "id": "fbUcSl73-vfi"
      },
      "source": [
        "Tensor is operable with numpy pandas matplotlib etc..\n"
      ]
    },
    {
      "cell_type": "code",
      "metadata": {
        "colab": {
          "base_uri": "https://localhost:8080/"
        },
        "id": "bRdX4QAf-0ZB",
        "outputId": "12c0bd8a-a443-41f4-e365-3e56ee16d60a"
      },
      "source": [
        "import numpy as np\n",
        "\n",
        "x=np.array([[1,2],[3,4]])\n",
        "x"
      ],
      "execution_count": 21,
      "outputs": [
        {
          "output_type": "execute_result",
          "data": {
            "text/plain": [
              "array([[1, 2],\n",
              "       [3, 4]])"
            ]
          },
          "metadata": {
            "tags": []
          },
          "execution_count": 21
        }
      ]
    },
    {
      "cell_type": "code",
      "metadata": {
        "colab": {
          "base_uri": "https://localhost:8080/"
        },
        "id": "HTRjpHfa_TNI",
        "outputId": "b646f10d-d7a6-4546-a52f-916e4f69e3c6"
      },
      "source": [
        "y=torch.from_numpy(x)\n",
        "y\n"
      ],
      "execution_count": 23,
      "outputs": [
        {
          "output_type": "execute_result",
          "data": {
            "text/plain": [
              "tensor([[1, 2],\n",
              "        [3, 4]])"
            ]
          },
          "metadata": {
            "tags": []
          },
          "execution_count": 23
        }
      ]
    },
    {
      "cell_type": "code",
      "metadata": {
        "colab": {
          "base_uri": "https://localhost:8080/"
        },
        "id": "cw-u_USV_eFY",
        "outputId": "4bfc852c-9731-492d-bd3c-885630182328"
      },
      "source": [
        "x.dtype "
      ],
      "execution_count": 24,
      "outputs": [
        {
          "output_type": "execute_result",
          "data": {
            "text/plain": [
              "dtype('int64')"
            ]
          },
          "metadata": {
            "tags": []
          },
          "execution_count": 24
        }
      ]
    },
    {
      "cell_type": "markdown",
      "metadata": {
        "id": "mTsrSeZ6_hCB"
      },
      "source": [
        "y.dtype"
      ]
    },
    {
      "cell_type": "code",
      "metadata": {
        "id": "UgrryALu_mTR"
      },
      "source": [
        ""
      ],
      "execution_count": null,
      "outputs": []
    },
    {
      "cell_type": "code",
      "metadata": {
        "id": "hnMdMksv_mxQ"
      },
      "source": [
        ""
      ],
      "execution_count": null,
      "outputs": []
    },
    {
      "cell_type": "code",
      "metadata": {
        "id": "90OO277U_nAW"
      },
      "source": [
        ""
      ],
      "execution_count": null,
      "outputs": []
    }
  ]
}