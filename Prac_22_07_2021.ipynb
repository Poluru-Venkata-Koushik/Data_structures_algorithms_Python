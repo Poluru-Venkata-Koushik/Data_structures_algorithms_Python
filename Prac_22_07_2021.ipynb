{
  "nbformat": 4,
  "nbformat_minor": 0,
  "metadata": {
    "colab": {
      "name": "Prac_22_07_2021.ipynb",
      "provenance": [],
      "collapsed_sections": [],
      "authorship_tag": "ABX9TyME0MBnF4SmIg9+lNSb4PaM",
      "include_colab_link": true
    },
    "kernelspec": {
      "name": "python3",
      "display_name": "Python 3"
    },
    "language_info": {
      "name": "python"
    }
  },
  "cells": [
    {
      "cell_type": "markdown",
      "metadata": {
        "id": "view-in-github",
        "colab_type": "text"
      },
      "source": [
        "<a href=\"https://colab.research.google.com/github/Poluru-Venkata-Koushik/Data_structures_algorithms_Python/blob/main/Prac_22_07_2021.ipynb\" target=\"_parent\"><img src=\"https://colab.research.google.com/assets/colab-badge.svg\" alt=\"Open In Colab\"/></a>"
      ]
    },
    {
      "cell_type": "code",
      "metadata": {
        "colab": {
          "base_uri": "https://localhost:8080/"
        },
        "id": "HWPH_I2NDesj",
        "outputId": "95eb8415-fb2d-4a96-d2a6-aebd59afac00"
      },
      "source": [
        "from operator import itemgetter\n",
        "a=[(1,2),(3,4),(1,3),(1,5),(2,-2),(0,0),(5,-2)]\n",
        "a"
      ],
      "execution_count": 1,
      "outputs": [
        {
          "output_type": "execute_result",
          "data": {
            "text/plain": [
              "[(1, 2), (3, 4), (1, 3), (1, 5), (2, -2), (0, 0), (5, -2)]"
            ]
          },
          "metadata": {
            "tags": []
          },
          "execution_count": 1
        }
      ]
    },
    {
      "cell_type": "code",
      "metadata": {
        "colab": {
          "base_uri": "https://localhost:8080/"
        },
        "id": "xyPBu7kWD7kn",
        "outputId": "64b29c7e-abfe-42c4-8e76-d4bc4d667a46"
      },
      "source": [
        "sorted(a)"
      ],
      "execution_count": 2,
      "outputs": [
        {
          "output_type": "execute_result",
          "data": {
            "text/plain": [
              "[(0, 0), (1, 2), (1, 3), (1, 5), (2, -2), (3, 4), (5, -2)]"
            ]
          },
          "metadata": {
            "tags": []
          },
          "execution_count": 2
        }
      ]
    },
    {
      "cell_type": "code",
      "metadata": {
        "colab": {
          "base_uri": "https://localhost:8080/"
        },
        "id": "YLOoHIh5D93H",
        "outputId": "4b2dd958-5d30-441b-ccac-376c5c726c20"
      },
      "source": [
        "sorted(a,key=itemgetter(0))"
      ],
      "execution_count": 3,
      "outputs": [
        {
          "output_type": "execute_result",
          "data": {
            "text/plain": [
              "[(0, 0), (1, 2), (1, 3), (1, 5), (2, -2), (3, 4), (5, -2)]"
            ]
          },
          "metadata": {
            "tags": []
          },
          "execution_count": 3
        }
      ]
    },
    {
      "cell_type": "code",
      "metadata": {
        "colab": {
          "base_uri": "https://localhost:8080/"
        },
        "id": "vZTeFsoYEK64",
        "outputId": "96e67c35-6713-4f90-f19b-1a1edfa7e41b"
      },
      "source": [
        "sorted(a,key=itemgetter(1))"
      ],
      "execution_count": 5,
      "outputs": [
        {
          "output_type": "execute_result",
          "data": {
            "text/plain": [
              "[(2, -2), (5, -2), (0, 0), (1, 2), (1, 3), (3, 4), (1, 5)]"
            ]
          },
          "metadata": {
            "tags": []
          },
          "execution_count": 5
        }
      ]
    },
    {
      "cell_type": "code",
      "metadata": {
        "colab": {
          "base_uri": "https://localhost:8080/"
        },
        "id": "qI4z4cWmEN8L",
        "outputId": "47e83c44-c7af-4ff4-8cd1-a97cb896982f"
      },
      "source": [
        "sorted(a,key=itemgetter(0,1))"
      ],
      "execution_count": 6,
      "outputs": [
        {
          "output_type": "execute_result",
          "data": {
            "text/plain": [
              "[(0, 0), (1, 2), (1, 3), (1, 5), (2, -2), (3, 4), (5, -2)]"
            ]
          },
          "metadata": {
            "tags": []
          },
          "execution_count": 6
        }
      ]
    },
    {
      "cell_type": "code",
      "metadata": {
        "id": "PWEjMCOOEUJp"
      },
      "source": [
        ""
      ],
      "execution_count": null,
      "outputs": []
    },
    {
      "cell_type": "markdown",
      "metadata": {
        "id": "GhfwPJYlEXCE"
      },
      "source": [
        "`Byte array`"
      ]
    },
    {
      "cell_type": "code",
      "metadata": {
        "id": "WUOEIuexEize"
      },
      "source": [
        "name=bytearray(b\"My name is Koushik\")"
      ],
      "execution_count": 8,
      "outputs": []
    },
    {
      "cell_type": "code",
      "metadata": {
        "colab": {
          "base_uri": "https://localhost:8080/"
        },
        "id": "6AINR1I3ErHa",
        "outputId": "425501f5-ac68-464e-b972-e2201c0c32fd"
      },
      "source": [
        "name.upper()"
      ],
      "execution_count": 11,
      "outputs": [
        {
          "output_type": "execute_result",
          "data": {
            "text/plain": [
              "bytearray(b'MY NAME IS KOUSHIK')"
            ]
          },
          "metadata": {
            "tags": []
          },
          "execution_count": 11
        }
      ]
    },
    {
      "cell_type": "code",
      "metadata": {
        "colab": {
          "base_uri": "https://localhost:8080/"
        },
        "id": "KxOJbGa0EwHD",
        "outputId": "79f2250f-8af9-4f3d-efff-8a6924876ab4"
      },
      "source": [
        "name.endswith(b'ik')\n"
      ],
      "execution_count": 18,
      "outputs": [
        {
          "output_type": "execute_result",
          "data": {
            "text/plain": [
              "True"
            ]
          },
          "metadata": {
            "tags": []
          },
          "execution_count": 18
        }
      ]
    },
    {
      "cell_type": "code",
      "metadata": {
        "colab": {
          "base_uri": "https://localhost:8080/"
        },
        "id": "3zQvRJiKE6qU",
        "outputId": "cc4e1d8b-7848-447a-b27c-7fdaf56b50b1"
      },
      "source": [
        "name.replace(b'K',b'J')"
      ],
      "execution_count": 19,
      "outputs": [
        {
          "output_type": "execute_result",
          "data": {
            "text/plain": [
              "bytearray(b'My name is Joushik')"
            ]
          },
          "metadata": {
            "tags": []
          },
          "execution_count": 19
        }
      ]
    },
    {
      "cell_type": "code",
      "metadata": {
        "id": "l0e8Tud6FO2E"
      },
      "source": [
        ""
      ],
      "execution_count": null,
      "outputs": []
    },
    {
      "cell_type": "markdown",
      "metadata": {
        "id": "QrN2X7v1FSmG"
      },
      "source": [
        "`Sets` in python"
      ]
    },
    {
      "cell_type": "code",
      "metadata": {
        "id": "xz37sgugFUfo"
      },
      "source": [
        "a=set()"
      ],
      "execution_count": 20,
      "outputs": []
    },
    {
      "cell_type": "code",
      "metadata": {
        "colab": {
          "base_uri": "https://localhost:8080/"
        },
        "id": "5x6bwRw5FW-Q",
        "outputId": "f90edb8b-548d-419c-dd77-6acd41c96a39"
      },
      "source": [
        "a"
      ],
      "execution_count": 21,
      "outputs": [
        {
          "output_type": "execute_result",
          "data": {
            "text/plain": [
              "set()"
            ]
          },
          "metadata": {
            "tags": []
          },
          "execution_count": 21
        }
      ]
    },
    {
      "cell_type": "code",
      "metadata": {
        "id": "nXgPRYRCFXox"
      },
      "source": [
        "a.add(1)"
      ],
      "execution_count": 22,
      "outputs": []
    },
    {
      "cell_type": "code",
      "metadata": {
        "colab": {
          "base_uri": "https://localhost:8080/"
        },
        "id": "b2xltCbpFaHG",
        "outputId": "cdf0ec1b-d3e7-47d7-a18a-ec70db7a22b8"
      },
      "source": [
        "a.add(2)\n",
        "a.add(4)\n",
        "a.add(5)\n",
        "a"
      ],
      "execution_count": 26,
      "outputs": [
        {
          "output_type": "execute_result",
          "data": {
            "text/plain": [
              "{1, 2, 4, 5}"
            ]
          },
          "metadata": {
            "tags": []
          },
          "execution_count": 26
        }
      ]
    },
    {
      "cell_type": "code",
      "metadata": {
        "id": "uKc2NsPmFaoQ"
      },
      "source": [
        "a.add(5)"
      ],
      "execution_count": 27,
      "outputs": []
    },
    {
      "cell_type": "code",
      "metadata": {
        "colab": {
          "base_uri": "https://localhost:8080/"
        },
        "id": "2tuIC25MFnVz",
        "outputId": "224b7a32-cd26-45b4-a5b9-3c9dcedae002"
      },
      "source": [
        "a\n"
      ],
      "execution_count": 28,
      "outputs": [
        {
          "output_type": "execute_result",
          "data": {
            "text/plain": [
              "{1, 2, 4, 5}"
            ]
          },
          "metadata": {
            "tags": []
          },
          "execution_count": 28
        }
      ]
    },
    {
      "cell_type": "code",
      "metadata": {
        "id": "GVFz_7-XFnzC"
      },
      "source": [
        "b=set()\n",
        "b.add(4)\n",
        "b.add(5)\n"
      ],
      "execution_count": 33,
      "outputs": []
    },
    {
      "cell_type": "code",
      "metadata": {
        "colab": {
          "base_uri": "https://localhost:8080/"
        },
        "id": "QCU7JYepFt9U",
        "outputId": "818a7b63-45b9-4501-c49b-c01fc7f9ee91"
      },
      "source": [
        "b"
      ],
      "execution_count": 34,
      "outputs": [
        {
          "output_type": "execute_result",
          "data": {
            "text/plain": [
              "{4, 5}"
            ]
          },
          "metadata": {
            "tags": []
          },
          "execution_count": 34
        }
      ]
    },
    {
      "cell_type": "code",
      "metadata": {
        "colab": {
          "base_uri": "https://localhost:8080/"
        },
        "id": "HcNNt-fjF0td",
        "outputId": "953616fa-0113-4587-9a2d-02d548b2cf5b"
      },
      "source": [
        "a.intersection(b)"
      ],
      "execution_count": 35,
      "outputs": [
        {
          "output_type": "execute_result",
          "data": {
            "text/plain": [
              "{4, 5}"
            ]
          },
          "metadata": {
            "tags": []
          },
          "execution_count": 35
        }
      ]
    },
    {
      "cell_type": "code",
      "metadata": {
        "colab": {
          "base_uri": "https://localhost:8080/"
        },
        "id": "qYiwVFpJF4kx",
        "outputId": "a31f32eb-4a0f-4602-d0ea-3b47572171b8"
      },
      "source": [
        "a.issubset(b)"
      ],
      "execution_count": 36,
      "outputs": [
        {
          "output_type": "execute_result",
          "data": {
            "text/plain": [
              "False"
            ]
          },
          "metadata": {
            "tags": []
          },
          "execution_count": 36
        }
      ]
    },
    {
      "cell_type": "code",
      "metadata": {
        "colab": {
          "base_uri": "https://localhost:8080/"
        },
        "id": "Pq0LoRj7F8ML",
        "outputId": "1d4df8e6-db72-4379-abd4-7dae7bea0a33"
      },
      "source": [
        "b.issubset(a)"
      ],
      "execution_count": 37,
      "outputs": [
        {
          "output_type": "execute_result",
          "data": {
            "text/plain": [
              "True"
            ]
          },
          "metadata": {
            "tags": []
          },
          "execution_count": 37
        }
      ]
    },
    {
      "cell_type": "code",
      "metadata": {
        "id": "z2N38eVTF-Kd"
      },
      "source": [
        ""
      ],
      "execution_count": null,
      "outputs": []
    },
    {
      "cell_type": "markdown",
      "metadata": {
        "id": "HMObkmnMGDup"
      },
      "source": [
        "`Frozenset` is an imuutable counter part of set\n"
      ]
    },
    {
      "cell_type": "code",
      "metadata": {
        "id": "o_FPPcvFGeX8"
      },
      "source": [
        ""
      ],
      "execution_count": null,
      "outputs": []
    },
    {
      "cell_type": "markdown",
      "metadata": {
        "id": "iBGnVyytGiog"
      },
      "source": [
        "Zipping"
      ]
    },
    {
      "cell_type": "code",
      "metadata": {
        "colab": {
          "base_uri": "https://localhost:8080/"
        },
        "id": "eN-WF596Gjh6",
        "outputId": "f7646553-5e36-4467-a396-d3b9260eeba4"
      },
      "source": [
        "A={'a':65,'b':66,'c':67,'d':68}\n",
        "A"
      ],
      "execution_count": 38,
      "outputs": [
        {
          "output_type": "execute_result",
          "data": {
            "text/plain": [
              "{'a': 65, 'b': 66, 'c': 67, 'd': 68}"
            ]
          },
          "metadata": {
            "tags": []
          },
          "execution_count": 38
        }
      ]
    },
    {
      "cell_type": "code",
      "metadata": {
        "colab": {
          "base_uri": "https://localhost:8080/"
        },
        "id": "4_uwv6GlGssK",
        "outputId": "22b5239d-c2dc-4535-e76c-32aa99bd0815"
      },
      "source": [
        "A['a']"
      ],
      "execution_count": 39,
      "outputs": [
        {
          "output_type": "execute_result",
          "data": {
            "text/plain": [
              "65"
            ]
          },
          "metadata": {
            "tags": []
          },
          "execution_count": 39
        }
      ]
    },
    {
      "cell_type": "code",
      "metadata": {
        "colab": {
          "base_uri": "https://localhost:8080/"
        },
        "id": "JfWh-rJiGvYF",
        "outputId": "d25515eb-4a62-44a6-d265-2584c5070356"
      },
      "source": [
        "A={'a':65,'b':66,'c':67,'d':68}\n",
        "B=dict(a=65,b=66,c=67,d=68)\n",
        "C=dict(zip(['a','b','c','d'],[65,66,67,68]))\n",
        "A"
      ],
      "execution_count": 44,
      "outputs": [
        {
          "output_type": "execute_result",
          "data": {
            "text/plain": [
              "{'a': 65, 'b': 66, 'c': 67, 'd': 68}"
            ]
          },
          "metadata": {
            "tags": []
          },
          "execution_count": 44
        }
      ]
    },
    {
      "cell_type": "code",
      "metadata": {
        "id": "ohiVHCxjG2Za"
      },
      "source": [
        ""
      ],
      "execution_count": 46,
      "outputs": []
    },
    {
      "cell_type": "code",
      "metadata": {
        "colab": {
          "base_uri": "https://localhost:8080/"
        },
        "id": "g1lMo6MqHfMG",
        "outputId": "270ac228-4878-4b88-e4aa-a01d49da7248"
      },
      "source": [
        "print(A,B,C,sep='......')"
      ],
      "execution_count": 46,
      "outputs": [
        {
          "output_type": "stream",
          "text": [
            "{'a': 65, 'b': 66, 'c': 67, 'd': 68}......{'a': 65, 'b': 66, 'c': 67, 'd': 68}......{'a': 65, 'b': 66, 'c': 67, 'd': 68}\n"
          ],
          "name": "stdout"
        }
      ]
    },
    {
      "cell_type": "code",
      "metadata": {
        "colab": {
          "base_uri": "https://localhost:8080/"
        },
        "id": "gLzgJWZ5HjUF",
        "outputId": "d2a4ffad-251f-4451-a553-43c733ff4aa6"
      },
      "source": [
        "list(zip(['a','b','c'],[1,2,3]))"
      ],
      "execution_count": 47,
      "outputs": [
        {
          "output_type": "execute_result",
          "data": {
            "text/plain": [
              "[('a', 1), ('b', 2), ('c', 3)]"
            ]
          },
          "metadata": {
            "tags": []
          },
          "execution_count": 47
        }
      ]
    },
    {
      "cell_type": "code",
      "metadata": {
        "colab": {
          "base_uri": "https://localhost:8080/"
        },
        "id": "Qi0aSZO5H24e",
        "outputId": "21e65a2b-e269-4f0c-9170-7e1b88716b00"
      },
      "source": [
        "list(zip('HELLO',range(10)))"
      ],
      "execution_count": 52,
      "outputs": [
        {
          "output_type": "execute_result",
          "data": {
            "text/plain": [
              "[('H', 0), ('E', 1), ('L', 2), ('L', 3), ('O', 4)]"
            ]
          },
          "metadata": {
            "tags": []
          },
          "execution_count": 52
        }
      ]
    },
    {
      "cell_type": "code",
      "metadata": {
        "id": "ofMXNR_IH-P2"
      },
      "source": [
        ""
      ],
      "execution_count": null,
      "outputs": []
    },
    {
      "cell_type": "markdown",
      "metadata": {
        "id": "0CPRfYdkIZRY"
      },
      "source": [
        "Named Tupples"
      ]
    },
    {
      "cell_type": "code",
      "metadata": {
        "id": "eVhpUkW1Iaei"
      },
      "source": [
        "from collections import namedtuple"
      ],
      "execution_count": 53,
      "outputs": []
    },
    {
      "cell_type": "code",
      "metadata": {
        "id": "FCRfyQBLIfE0"
      },
      "source": [
        "Vision=(1.5,0.5)"
      ],
      "execution_count": 54,
      "outputs": []
    },
    {
      "cell_type": "code",
      "metadata": {
        "colab": {
          "base_uri": "https://localhost:8080/"
        },
        "id": "Px06HzREIjZ7",
        "outputId": "ad39b695-8a4e-4886-a901-f1384e42e3d9"
      },
      "source": [
        "Vision[1]"
      ],
      "execution_count": 57,
      "outputs": [
        {
          "output_type": "execute_result",
          "data": {
            "text/plain": [
              "0.5"
            ]
          },
          "metadata": {
            "tags": []
          },
          "execution_count": 57
        }
      ]
    },
    {
      "cell_type": "code",
      "metadata": {
        "id": "87hbJseIIlhx"
      },
      "source": [
        "Vision_nt=namedtuple('Eye_sight',['left','right'])"
      ],
      "execution_count": 58,
      "outputs": []
    },
    {
      "cell_type": "code",
      "metadata": {
        "id": "ryNyO1sII1YF"
      },
      "source": [
        "my_sight=Vision_nt(1.5,0.5)"
      ],
      "execution_count": 59,
      "outputs": []
    },
    {
      "cell_type": "code",
      "metadata": {
        "colab": {
          "base_uri": "https://localhost:8080/"
        },
        "id": "d5oVz8VVI-Ig",
        "outputId": "21d27b3a-2e80-4b9a-cd6c-e778f2ca8934"
      },
      "source": [
        "my_sight"
      ],
      "execution_count": 62,
      "outputs": [
        {
          "output_type": "execute_result",
          "data": {
            "text/plain": [
              "Eye_sight(left=1.5, right=0.5)"
            ]
          },
          "metadata": {
            "tags": []
          },
          "execution_count": 62
        }
      ]
    },
    {
      "cell_type": "code",
      "metadata": {
        "id": "hUXMLGYtI_q9"
      },
      "source": [
        ""
      ],
      "execution_count": null,
      "outputs": []
    }
  ]
}