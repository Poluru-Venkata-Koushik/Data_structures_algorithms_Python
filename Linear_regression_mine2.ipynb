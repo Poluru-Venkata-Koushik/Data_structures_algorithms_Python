{
  "nbformat": 4,
  "nbformat_minor": 0,
  "metadata": {
    "colab": {
      "name": "Linear_regression_mine2.ipynb",
      "provenance": [],
      "authorship_tag": "ABX9TyNJFIMQT04ko9TPRJIWDjdk",
      "include_colab_link": true
    },
    "kernelspec": {
      "name": "python3",
      "display_name": "Python 3"
    },
    "language_info": {
      "name": "python"
    }
  },
  "cells": [
    {
      "cell_type": "markdown",
      "metadata": {
        "id": "view-in-github",
        "colab_type": "text"
      },
      "source": [
        "<a href=\"https://colab.research.google.com/github/Poluru-Venkata-Koushik/Data_structures_algorithms_Python/blob/main/Linear_regression_mine2.ipynb\" target=\"_parent\"><img src=\"https://colab.research.google.com/assets/colab-badge.svg\" alt=\"Open In Colab\"/></a>"
      ]
    },
    {
      "cell_type": "code",
      "metadata": {
        "id": "4frD-5GjBWfM"
      },
      "source": [
        "import numpy as np\n",
        "import torch"
      ],
      "execution_count": 1,
      "outputs": []
    },
    {
      "cell_type": "code",
      "metadata": {
        "colab": {
          "base_uri": "https://localhost:8080/"
        },
        "id": "WFbrvDNHBdzp",
        "outputId": "f2d40b59-adc1-4e64-82c8-048ebe28486e"
      },
      "source": [
        "inputs=np.array([[73,67,43],[91,88,64],[87,134,58],[102,43,37],[69,96,70]],dtype='float32')\n",
        "inputs\n"
      ],
      "execution_count": 2,
      "outputs": [
        {
          "output_type": "execute_result",
          "data": {
            "text/plain": [
              "array([[ 73.,  67.,  43.],\n",
              "       [ 91.,  88.,  64.],\n",
              "       [ 87., 134.,  58.],\n",
              "       [102.,  43.,  37.],\n",
              "       [ 69.,  96.,  70.]], dtype=float32)"
            ]
          },
          "metadata": {
            "tags": []
          },
          "execution_count": 2
        }
      ]
    },
    {
      "cell_type": "code",
      "metadata": {
        "colab": {
          "base_uri": "https://localhost:8080/"
        },
        "id": "8z8lbTy2Bi5H",
        "outputId": "92017647-3c80-4dff-9252-8a37df678265"
      },
      "source": [
        "Target_yields=np.array([[56,70],[81,101],[119,133],[22,37],[103,119]],dtype='float32')\n",
        "Target_yields"
      ],
      "execution_count": 3,
      "outputs": [
        {
          "output_type": "execute_result",
          "data": {
            "text/plain": [
              "array([[ 56.,  70.],\n",
              "       [ 81., 101.],\n",
              "       [119., 133.],\n",
              "       [ 22.,  37.],\n",
              "       [103., 119.]], dtype=float32)"
            ]
          },
          "metadata": {
            "tags": []
          },
          "execution_count": 3
        }
      ]
    },
    {
      "cell_type": "code",
      "metadata": {
        "colab": {
          "base_uri": "https://localhost:8080/"
        },
        "id": "KChd6CCtBpwT",
        "outputId": "61c2197c-963d-4a96-c3ad-6218ce4dcc8a"
      },
      "source": [
        "inputs=torch.from_numpy(inputs)\n",
        "Target_yields=torch.from_numpy(Target_yields)\n",
        "print(inputs,Target_yields)"
      ],
      "execution_count": 4,
      "outputs": [
        {
          "output_type": "stream",
          "text": [
            "tensor([[ 73.,  67.,  43.],\n",
            "        [ 91.,  88.,  64.],\n",
            "        [ 87., 134.,  58.],\n",
            "        [102.,  43.,  37.],\n",
            "        [ 69.,  96.,  70.]]) tensor([[ 56.,  70.],\n",
            "        [ 81., 101.],\n",
            "        [119., 133.],\n",
            "        [ 22.,  37.],\n",
            "        [103., 119.]])\n"
          ],
          "name": "stdout"
        }
      ]
    },
    {
      "cell_type": "code",
      "metadata": {
        "colab": {
          "base_uri": "https://localhost:8080/"
        },
        "id": "HEK0BC7iBvAD",
        "outputId": "1cb79c47-bc82-47d0-8521-81aa68ed3f9d"
      },
      "source": [
        "w=torch.randn(2,3,requires_grad=True)\n",
        "b=torch.randn(2,requires_grad=True)\n",
        "print(w)\n",
        "print(b)\n"
      ],
      "execution_count": 5,
      "outputs": [
        {
          "output_type": "stream",
          "text": [
            "tensor([[ 0.0367,  0.4767,  0.9195],\n",
            "        [ 1.1380,  0.1185, -0.3996]], requires_grad=True)\n",
            "tensor([0.8482, 0.0139], requires_grad=True)\n"
          ],
          "name": "stdout"
        }
      ]
    },
    {
      "cell_type": "code",
      "metadata": {
        "colab": {
          "base_uri": "https://localhost:8080/"
        },
        "id": "vVdtF-e5Bwag",
        "outputId": "2fecf659-86ff-4819-b4ca-4b261354e6fe"
      },
      "source": [
        "w.backward"
      ],
      "execution_count": 8,
      "outputs": [
        {
          "output_type": "execute_result",
          "data": {
            "text/plain": [
              "<bound method Tensor.backward of tensor([[ 0.0367,  0.4767,  0.9195],\n",
              "        [ 1.1380,  0.1185, -0.3996]], requires_grad=True)>"
            ]
          },
          "metadata": {
            "tags": []
          },
          "execution_count": 8
        }
      ]
    },
    {
      "cell_type": "code",
      "metadata": {
        "colab": {
          "base_uri": "https://localhost:8080/"
        },
        "id": "vXChcBQbB3I3",
        "outputId": "25e50cbe-0457-4bbb-9a68-8b9935eb9167"
      },
      "source": [
        "print(w.grad)"
      ],
      "execution_count": 12,
      "outputs": [
        {
          "output_type": "stream",
          "text": [
            "None\n"
          ],
          "name": "stdout"
        }
      ]
    }
  ]
}