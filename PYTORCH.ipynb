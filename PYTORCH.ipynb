{
  "nbformat": 4,
  "nbformat_minor": 0,
  "metadata": {
    "colab": {
      "name": "PYTORCH.ipynb",
      "provenance": [],
      "authorship_tag": "ABX9TyNnjfgO30b7IrpbQMtgIENi",
      "include_colab_link": true
    },
    "kernelspec": {
      "name": "python3",
      "display_name": "Python 3"
    },
    "language_info": {
      "name": "python"
    }
  },
  "cells": [
    {
      "cell_type": "markdown",
      "metadata": {
        "id": "view-in-github",
        "colab_type": "text"
      },
      "source": [
        "<a href=\"https://colab.research.google.com/github/Poluru-Venkata-Koushik/Data_structures_algorithms_Python/blob/main/PYTORCH.ipynb\" target=\"_parent\"><img src=\"https://colab.research.google.com/assets/colab-badge.svg\" alt=\"Open In Colab\"/></a>"
      ]
    },
    {
      "cell_type": "code",
      "metadata": {
        "id": "1VqmbhcMj5T7"
      },
      "source": [
        "import torch"
      ],
      "execution_count": 2,
      "outputs": []
    },
    {
      "cell_type": "code",
      "metadata": {
        "colab": {
          "base_uri": "https://localhost:8080/"
        },
        "id": "ZmJtW_Nlj9p2",
        "outputId": "bd4c35c0-61bc-4230-c879-30cfcb915e11"
      },
      "source": [
        "t1=torch.tensor(1.)\n",
        "t1"
      ],
      "execution_count": 4,
      "outputs": [
        {
          "output_type": "execute_result",
          "data": {
            "text/plain": [
              "tensor(1.)"
            ]
          },
          "metadata": {},
          "execution_count": 4
        }
      ]
    },
    {
      "cell_type": "code",
      "metadata": {
        "colab": {
          "base_uri": "https://localhost:8080/"
        },
        "id": "R3TmRFp_kHZ6",
        "outputId": "6df71540-be8a-4302-e363-cc90a910e752"
      },
      "source": [
        "t1.dtype"
      ],
      "execution_count": 5,
      "outputs": [
        {
          "output_type": "execute_result",
          "data": {
            "text/plain": [
              "torch.float32"
            ]
          },
          "metadata": {},
          "execution_count": 5
        }
      ]
    },
    {
      "cell_type": "code",
      "metadata": {
        "colab": {
          "base_uri": "https://localhost:8080/"
        },
        "id": "BqF5wZ2jkT_7",
        "outputId": "8173d108-bbac-41af-cc18-ba509e4e5ed3"
      },
      "source": [
        "t1=torch.tensor([1.,2,3,4])\n",
        "t1"
      ],
      "execution_count": 7,
      "outputs": [
        {
          "output_type": "execute_result",
          "data": {
            "text/plain": [
              "tensor([1., 2., 3., 4.])"
            ]
          },
          "metadata": {},
          "execution_count": 7
        }
      ]
    },
    {
      "cell_type": "code",
      "metadata": {
        "colab": {
          "base_uri": "https://localhost:8080/"
        },
        "id": "xCx6c_hxkbqu",
        "outputId": "f58c14d6-edbc-42a3-b598-987d09a5f95b"
      },
      "source": [
        "t1.shape"
      ],
      "execution_count": 8,
      "outputs": [
        {
          "output_type": "execute_result",
          "data": {
            "text/plain": [
              "torch.Size([4])"
            ]
          },
          "metadata": {},
          "execution_count": 8
        }
      ]
    },
    {
      "cell_type": "code",
      "metadata": {
        "id": "z7JMkYezkpJV"
      },
      "source": [
        "#It is not possible to create tensors with irregular shapes"
      ],
      "execution_count": 9,
      "outputs": []
    },
    {
      "cell_type": "code",
      "metadata": {
        "id": "dkaVNyOXk2IF"
      },
      "source": [
        " "
      ],
      "execution_count": null,
      "outputs": []
    },
    {
      "cell_type": "markdown",
      "metadata": {
        "id": "j__-P4u3k7zI"
      },
      "source": [
        "Gradient "
      ]
    },
    {
      "cell_type": "code",
      "metadata": {
        "id": "Qzv8Ku5Gk849"
      },
      "source": [
        "x=torch.tensor(3.,requires_grad=True)\n",
        "w=torch.tensor(4.,requires_grad=True)\n",
        "b=torch.tensor(5.,requires_grad=True)"
      ],
      "execution_count": 47,
      "outputs": []
    },
    {
      "cell_type": "code",
      "metadata": {
        "id": "hWNVEE7elGBU"
      },
      "source": [
        "y=w*x+b"
      ],
      "execution_count": 51,
      "outputs": []
    },
    {
      "cell_type": "code",
      "metadata": {
        "colab": {
          "base_uri": "https://localhost:8080/"
        },
        "id": "QQHSejJFlMCz",
        "outputId": "a5dae3d6-60f8-4a7e-9fc1-bcca90552659"
      },
      "source": [
        "y"
      ],
      "execution_count": 54,
      "outputs": [
        {
          "output_type": "execute_result",
          "data": {
            "text/plain": [
              "tensor(17., grad_fn=<AddBackward0>)"
            ]
          },
          "metadata": {},
          "execution_count": 54
        }
      ]
    },
    {
      "cell_type": "code",
      "metadata": {
        "id": "o3nDP7EZlM9b"
      },
      "source": [
        "y.backward()"
      ],
      "execution_count": 55,
      "outputs": []
    },
    {
      "cell_type": "code",
      "metadata": {
        "colab": {
          "base_uri": "https://localhost:8080/"
        },
        "id": "iqNCG151li-P",
        "outputId": "1cac1676-529f-4b10-9523-8aacf014b81f"
      },
      "source": [
        "print(b.grad)"
      ],
      "execution_count": 59,
      "outputs": [
        {
          "output_type": "stream",
          "text": [
            "tensor(1.)\n"
          ],
          "name": "stdout"
        }
      ]
    },
    {
      "cell_type": "code",
      "metadata": {
        "id": "x9HL_9wxllut"
      },
      "source": [
        ""
      ],
      "execution_count": 50,
      "outputs": []
    },
    {
      "cell_type": "markdown",
      "metadata": {
        "id": "cZtnDRB_nGCC"
      },
      "source": [
        "Functions"
      ]
    },
    {
      "cell_type": "code",
      "metadata": {
        "id": "YRy68dOQnHKM"
      },
      "source": [
        "t=torch.full((3,2),42)"
      ],
      "execution_count": 60,
      "outputs": []
    },
    {
      "cell_type": "code",
      "metadata": {
        "id": "Meyw-8PRnMC3"
      },
      "source": [
        "t3=torch.full((3,2),54)"
      ],
      "execution_count": 62,
      "outputs": []
    },
    {
      "cell_type": "code",
      "metadata": {
        "colab": {
          "base_uri": "https://localhost:8080/"
        },
        "id": "-SgDj5vFnM5i",
        "outputId": "dbb47f87-c77b-43ca-8589-bb0df86ad80f"
      },
      "source": [
        "torch.cat((t,t3))"
      ],
      "execution_count": 64,
      "outputs": [
        {
          "output_type": "execute_result",
          "data": {
            "text/plain": [
              "tensor([[42, 42],\n",
              "        [42, 42],\n",
              "        [42, 42],\n",
              "        [54, 54],\n",
              "        [54, 54],\n",
              "        [54, 54]])"
            ]
          },
          "metadata": {},
          "execution_count": 64
        }
      ]
    },
    {
      "cell_type": "code",
      "metadata": {
        "colab": {
          "base_uri": "https://localhost:8080/"
        },
        "id": "JQOHaXRNnY1u",
        "outputId": "8971a6d1-2809-43ea-ed04-c22b1147f101"
      },
      "source": [
        "torch.sin(t)"
      ],
      "execution_count": 65,
      "outputs": [
        {
          "output_type": "execute_result",
          "data": {
            "text/plain": [
              "tensor([[-0.9165, -0.9165],\n",
              "        [-0.9165, -0.9165],\n",
              "        [-0.9165, -0.9165]])"
            ]
          },
          "metadata": {},
          "execution_count": 65
        }
      ]
    },
    {
      "cell_type": "code",
      "metadata": {
        "colab": {
          "base_uri": "https://localhost:8080/"
        },
        "id": "9xj6V_efnf60",
        "outputId": "09c7daa0-4809-45eb-e90d-dcd8c0109f60"
      },
      "source": [
        "t3.reshape((3,1,2))"
      ],
      "execution_count": 67,
      "outputs": [
        {
          "output_type": "execute_result",
          "data": {
            "text/plain": [
              "tensor([[[54, 54]],\n",
              "\n",
              "        [[54, 54]],\n",
              "\n",
              "        [[54, 54]]])"
            ]
          },
          "metadata": {},
          "execution_count": 67
        }
      ]
    },
    {
      "cell_type": "code",
      "metadata": {
        "id": "Yw05xdfNniTk"
      },
      "source": [
        ""
      ],
      "execution_count": null,
      "outputs": []
    },
    {
      "cell_type": "markdown",
      "metadata": {
        "id": "gwtMvZXSntHy"
      },
      "source": [
        "interoperable with numpy pandas ...."
      ]
    },
    {
      "cell_type": "code",
      "metadata": {
        "id": "UsmBkkhFnv5V"
      },
      "source": [
        "import numpy as np"
      ],
      "execution_count": 68,
      "outputs": []
    },
    {
      "cell_type": "code",
      "metadata": {
        "id": "8fhG6G8rnyv5"
      },
      "source": [
        "x=np.array(([1.,2],[3,4]))"
      ],
      "execution_count": 73,
      "outputs": []
    },
    {
      "cell_type": "code",
      "metadata": {
        "colab": {
          "base_uri": "https://localhost:8080/"
        },
        "id": "zwR8XKAIn6YX",
        "outputId": "6b5060a5-e3aa-48e2-a640-c87058dbd638"
      },
      "source": [
        "x"
      ],
      "execution_count": 74,
      "outputs": [
        {
          "output_type": "execute_result",
          "data": {
            "text/plain": [
              "array([[1., 2.],\n",
              "       [3., 4.]])"
            ]
          },
          "metadata": {},
          "execution_count": 74
        }
      ]
    },
    {
      "cell_type": "code",
      "metadata": {
        "colab": {
          "base_uri": "https://localhost:8080/"
        },
        "id": "ZjPOmkdDn9EY",
        "outputId": "40dd93d4-b55e-4fd4-b813-a0dcbfbaa3a6"
      },
      "source": [
        "torch.from_numpy(x)"
      ],
      "execution_count": 75,
      "outputs": [
        {
          "output_type": "execute_result",
          "data": {
            "text/plain": [
              "tensor([[1., 2.],\n",
              "        [3., 4.]], dtype=torch.float64)"
            ]
          },
          "metadata": {},
          "execution_count": 75
        }
      ]
    },
    {
      "cell_type": "code",
      "metadata": {
        "id": "C1jrv-fToAqy"
      },
      "source": [
        "#.numy() to return to numpy "
      ],
      "execution_count": 76,
      "outputs": []
    },
    {
      "cell_type": "code",
      "metadata": {
        "id": "0lsFijaIoLQg"
      },
      "source": [
        "#example 1"
      ],
      "execution_count": 77,
      "outputs": []
    },
    {
      "cell_type": "code",
      "metadata": {
        "id": "Mo-cABpTpomC"
      },
      "source": [
        "inputs=np.array([[73,67,43],[91,88,64],[87,134,58],[102,43,37],[69,96,70.]],dtype=\"float32\")"
      ],
      "execution_count": 86,
      "outputs": []
    },
    {
      "cell_type": "code",
      "metadata": {
        "colab": {
          "base_uri": "https://localhost:8080/"
        },
        "id": "h7WFcdkQp28I",
        "outputId": "29d90705-7f2d-408b-a952-96e4e7969091"
      },
      "source": [
        "inputs"
      ],
      "execution_count": 87,
      "outputs": [
        {
          "output_type": "execute_result",
          "data": {
            "text/plain": [
              "array([[ 73.,  67.,  43.],\n",
              "       [ 91.,  88.,  64.],\n",
              "       [ 87., 134.,  58.],\n",
              "       [102.,  43.,  37.],\n",
              "       [ 69.,  96.,  70.]], dtype=float32)"
            ]
          },
          "metadata": {},
          "execution_count": 87
        }
      ]
    },
    {
      "cell_type": "code",
      "metadata": {
        "id": "cT1S5rnGp4dY"
      },
      "source": [
        "outputs=np.array([[56,70],[81,101],[119,133],[22,37],[103,119.]],dtype=\"float32\")"
      ],
      "execution_count": 88,
      "outputs": []
    },
    {
      "cell_type": "code",
      "metadata": {
        "colab": {
          "base_uri": "https://localhost:8080/"
        },
        "id": "BXaO4kauqFT8",
        "outputId": "7d8ca26b-2ea9-4bbd-87a9-bc816bb59dc0"
      },
      "source": [
        "outputs.dtype"
      ],
      "execution_count": 89,
      "outputs": [
        {
          "output_type": "execute_result",
          "data": {
            "text/plain": [
              "dtype('float32')"
            ]
          },
          "metadata": {},
          "execution_count": 89
        }
      ]
    },
    {
      "cell_type": "code",
      "metadata": {
        "id": "qPuqccEkqHiV"
      },
      "source": [
        "inputs=torch.from_numpy(inputs)\n",
        "outputs=torch.from_numpy(outputs)"
      ],
      "execution_count": 90,
      "outputs": []
    },
    {
      "cell_type": "code",
      "metadata": {
        "id": "WmgDT_ykqi1P"
      },
      "source": [
        "w=torch.randn((2,3),requires_grad=True)\n",
        "b=torch.randn((2),requires_grad=True)"
      ],
      "execution_count": 109,
      "outputs": []
    },
    {
      "cell_type": "code",
      "metadata": {
        "colab": {
          "base_uri": "https://localhost:8080/"
        },
        "id": "ZN8XEtqqqkcz",
        "outputId": "6ddf36f3-8359-4b1a-e9f9-b2ee8b580883"
      },
      "source": [
        "w"
      ],
      "execution_count": 110,
      "outputs": [
        {
          "output_type": "execute_result",
          "data": {
            "text/plain": [
              "tensor([[-1.2425,  0.3148, -2.4845],\n",
              "        [-2.0522,  0.6624, -1.0410]], requires_grad=True)"
            ]
          },
          "metadata": {},
          "execution_count": 110
        }
      ]
    },
    {
      "cell_type": "code",
      "metadata": {
        "id": "EQuo6MNtqyK3"
      },
      "source": [
        " def model(x):\n",
        "   return x @ w.t() + b"
      ],
      "execution_count": 111,
      "outputs": []
    },
    {
      "cell_type": "code",
      "metadata": {
        "id": "GYdE60MyrNVf"
      },
      "source": [
        "pred=model(inputs)"
      ],
      "execution_count": 112,
      "outputs": []
    },
    {
      "cell_type": "code",
      "metadata": {
        "colab": {
          "base_uri": "https://localhost:8080/"
        },
        "id": "-z8qbhmFrVoP",
        "outputId": "7c96d82c-9eb8-40f0-d8c4-cdbc24852695"
      },
      "source": [
        "print(outputs)"
      ],
      "execution_count": 113,
      "outputs": [
        {
          "output_type": "stream",
          "text": [
            "tensor([[ 56.,  70.],\n",
            "        [ 81., 101.],\n",
            "        [119., 133.],\n",
            "        [ 22.,  37.],\n",
            "        [103., 119.]])\n"
          ],
          "name": "stdout"
        }
      ]
    },
    {
      "cell_type": "code",
      "metadata": {
        "id": "UFC2_klUrgKc"
      },
      "source": [
        "def mean_sqaure_error(t1,t2):\n",
        "  diff=t1-t2\n",
        "  return torch.sum(diff**2)/diff.numel()"
      ],
      "execution_count": 114,
      "outputs": []
    },
    {
      "cell_type": "code",
      "metadata": {
        "colab": {
          "base_uri": "https://localhost:8080/"
        },
        "id": "nHRCjURUsN75",
        "outputId": "0bb6120e-7b8b-4966-fc85-abda9b615090"
      },
      "source": [
        "loss=mean_sqaure_error(pred,outputs)\n",
        "loss"
      ],
      "execution_count": 126,
      "outputs": [
        {
          "output_type": "execute_result",
          "data": {
            "text/plain": [
              "tensor(78826.9844, grad_fn=<DivBackward0>)"
            ]
          },
          "metadata": {},
          "execution_count": 126
        }
      ]
    },
    {
      "cell_type": "code",
      "metadata": {
        "id": "xyXifht9sTi0"
      },
      "source": [
        "loss.backward()"
      ],
      "execution_count": 117,
      "outputs": []
    },
    {
      "cell_type": "code",
      "metadata": {
        "colab": {
          "base_uri": "https://localhost:8080/"
        },
        "id": "9xWSfONvsuwv",
        "outputId": "84c28c6d-5980-4ad0-fe13-77af3f6591e1"
      },
      "source": [
        "print(w)\n",
        "print(w.grad)"
      ],
      "execution_count": 118,
      "outputs": [
        {
          "output_type": "stream",
          "text": [
            "tensor([[-1.2425,  0.3148, -2.4845],\n",
            "        [-2.0522,  0.6624, -1.0410]], requires_grad=True)\n",
            "tensor([[-24394.3730, -26129.8887, -16400.9160],\n",
            "        [-22438.8613, -23090.3203, -14614.0918]])\n"
          ],
          "name": "stdout"
        }
      ]
    },
    {
      "cell_type": "code",
      "metadata": {
        "colab": {
          "base_uri": "https://localhost:8080/"
        },
        "id": "bvh6i1ABs5Al",
        "outputId": "82b0bfbb-bb66-46a8-e169-1f749b975437"
      },
      "source": [
        "print(b)\n",
        "print(b.grad)"
      ],
      "execution_count": 120,
      "outputs": [
        {
          "output_type": "stream",
          "text": [
            "tensor([-1.5754,  0.5349], requires_grad=True)\n",
            "tensor([-290.8549, -264.5934])\n"
          ],
          "name": "stdout"
        }
      ]
    },
    {
      "cell_type": "code",
      "metadata": {
        "id": "SFKYwJ0GtFqZ"
      },
      "source": [
        "# if slope is increasing (grad is +ve) ==> if w is further increased, loss increases and viceversa\n",
        "# if slope is decreasing (grad is -ve) ==> if w is further increased, loss decreases and viceversa"
      ],
      "execution_count": 121,
      "outputs": []
    },
    {
      "cell_type": "code",
      "metadata": {
        "id": "jK3U9zNntmyB"
      },
      "source": [
        "with torch.no_grad():# no grad to not track this gradient calc\n",
        "  w-=w.grad*1e-5\n",
        "  b-=b.grad*1e-5"
      ],
      "execution_count": 123,
      "outputs": []
    },
    {
      "cell_type": "code",
      "metadata": {
        "id": "knNh0WcTuNfs"
      },
      "source": [
        "loss=mean_sqaure_error(model(inputs),outputs)"
      ],
      "execution_count": 124,
      "outputs": []
    },
    {
      "cell_type": "code",
      "metadata": {
        "colab": {
          "base_uri": "https://localhost:8080/"
        },
        "id": "XlQWguLdulOn",
        "outputId": "c26e17a1-8c7e-4e5a-b4df-b2dfc5b8196a"
      },
      "source": [
        "print(loss)"
      ],
      "execution_count": 125,
      "outputs": [
        {
          "output_type": "stream",
          "text": [
            "tensor(32899.7734, grad_fn=<DivBackward0>)\n"
          ],
          "name": "stdout"
        }
      ]
    },
    {
      "cell_type": "code",
      "metadata": {
        "id": "qD7kNG8iumPi"
      },
      "source": [
        "#set grads to 0 else it will add to new grads"
      ],
      "execution_count": 127,
      "outputs": []
    },
    {
      "cell_type": "code",
      "metadata": {
        "colab": {
          "base_uri": "https://localhost:8080/"
        },
        "id": "Kr8r_X7Du7jh",
        "outputId": "8c877f58-3871-4502-d93d-65314269b682"
      },
      "source": [
        "w.grad.zero_()\n",
        "b.grad.zero_()"
      ],
      "execution_count": 129,
      "outputs": [
        {
          "output_type": "execute_result",
          "data": {
            "text/plain": [
              "tensor([0., 0.])"
            ]
          },
          "metadata": {},
          "execution_count": 129
        }
      ]
    },
    {
      "cell_type": "code",
      "metadata": {
        "id": "ykNcp7oWu_Yz"
      },
      "source": [
        "for i in range(10000): #for 100 epochs\n",
        "  loss=mean_sqaure_error(model(inputs),outputs)\n",
        "  loss.backward()\n",
        "  with torch.no_grad():\n",
        "    w-=w.grad * 1e-5\n",
        "    b-=b.grad * 1e-5\n",
        "    w.grad.zero_()\n",
        "    b.grad.zero_()"
      ],
      "execution_count": 140,
      "outputs": []
    },
    {
      "cell_type": "code",
      "metadata": {
        "colab": {
          "base_uri": "https://localhost:8080/"
        },
        "id": "OnIzF4Y_veyJ",
        "outputId": "dbe6a5f6-3f3b-4606-a1f3-da2422ed3cf3"
      },
      "source": [
        "mean_sqaure_error(model(inputs),outputs)"
      ],
      "execution_count": 141,
      "outputs": [
        {
          "output_type": "execute_result",
          "data": {
            "text/plain": [
              "tensor(0.5147, grad_fn=<DivBackward0>)"
            ]
          },
          "metadata": {},
          "execution_count": 141
        }
      ]
    },
    {
      "cell_type": "code",
      "metadata": {
        "id": "IOH9dfoHv7tW"
      },
      "source": [
        ""
      ],
      "execution_count": null,
      "outputs": []
    }
  ]
}